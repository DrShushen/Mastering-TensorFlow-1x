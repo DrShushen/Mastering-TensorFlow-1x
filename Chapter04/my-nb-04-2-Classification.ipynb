{
 "cells": [
  {
   "cell_type": "markdown",
   "id": "df499ce8-cdbb-4b0d-a8fa-9275bdb3d8e4",
   "metadata": {},
   "source": [
    "# Overview Notes\n",
    "\n",
    "### Classification\n",
    "* Classification using logistic regression\n",
    "* Binary classification\n",
    "* Multiclass classification\n",
    "<br/><br/>\n",
    "\n",
    "### Formalisms\n",
    "\n",
    "#### **Definition of classification problem**\n",
    "\n",
    "$P(Y=i|x,w,b) = \\phi(z)$\n",
    "\n",
    "where\n",
    "* $Y$ - output\n",
    "* $i$ - one of the classes\n",
    "* $x$ - inputs\n",
    "* $w$ - weights\n",
    "* $b$ - biases\n",
    "* $\\phi(.)$ - model function\n",
    "* $z = w \\times x + b$\n",
    "\n",
    "Model is trained **to maximise the probability** $P$.\n",
    "<br/><br/>\n",
    "\n",
    "#### **Logistic regression (binary classification)**\n",
    "\n",
    "$\\phi(z) = \\frac{1}{1 - e^{-z}}$ where $z = w \\times x + b$\n",
    "\n",
    "Note sigmoid function, range $[0, 1]$:\n",
    "\n",
    "<img src=\"https://upload.wikimedia.org/wikipedia/commons/thumb/8/88/Logistic-curve.svg/1200px-Logistic-curve.svg.png\" width=350/>\n",
    "\n",
    "*Loss function*\n",
    "\n",
    "* Maximise LIKELIHOOD --> \n",
    "* Maximise LOG-LIKELIHOOD (simpler, with sums) --> \n",
    "* *Minimise* NEGATIVE LOG-LIKELIHOOD --> \n",
    "* In this case it's just binary corss-entropy:\n",
    "\n",
    "$J(w) = -l(w) = - \\sum_{j=1}^{j=N} [ y_j \\log(\\phi(z_j) + (1 - y_j) \\log( 1 - \\phi(z_j) ) ])$\n",
    "\n",
    "* $j$ iterates over **examples**\n",
    "* $z = w \\times x + b$\n",
    "* $-l(w)$ being negative log-likelihood\n",
    "* techinically $(w)$ refers to both $w,b$\n",
    "<br/><br/>\n",
    "\n",
    "#### **Logistic regression (multiclass classification)**\n",
    "\n",
    "Multiclass case necessitates a different final (\"smoothing\") function applied (not sigmoid): **softmax**.\n",
    "\n",
    "**Softmax *for class $i$* among classes iterated by $c$:**\n",
    "\n",
    "$\\phi(z_i) = softmax(z_i) = \\frac{e_{i}^{z}}{\\sum_{c=1}^{c=C} e_{c}^{z}}$\n",
    "\n",
    "* $c$ iterates over **classes**\n",
    "* $i$: specific class\n",
    "* $z = w \\times x + b$\n",
    "\n",
    "Softmax function produces the probabilities for each class, and the probabilities vector adds to 1. While predicting, the class with highest softmax value becomes the output or predicted class.\n",
    "\n",
    "*Loss function*\n",
    "\n",
    "Negative log-likelihood, as before; this time it looks like:\n",
    "\n",
    "$J(w) = -l(w) = - \\sum_{j=1}^{j=N} [ y_j \\log(\\phi(z_j)) ])$\n",
    "\n",
    "* Same definitions as above."
   ]
  },
  {
   "cell_type": "markdown",
   "id": "2616bd67-c5c0-49c9-be15-2560ce125c0f",
   "metadata": {
    "toc": true
   },
   "source": [
    "<h1>Table of Contents<span class=\"tocSkip\"></span></h1>\n",
    "<div class=\"toc\" style=\"margin-top: 1em;\"><ul class=\"toc-item\"><li><span><a href=\"#With-Generated-Dataset\" data-toc-modified-id=\"With-Generated-Dataset-1\"><span class=\"toc-item-num\">1&nbsp;&nbsp;</span>With Generated Dataset</a></span><ul class=\"toc-item\"><li><span><a href=\"#Generate-the-dataset\" data-toc-modified-id=\"Generate-the-dataset-1.1\"><span class=\"toc-item-num\">1.1&nbsp;&nbsp;</span>Generate the dataset</a></span></li></ul></li><li><span><a href=\"#With-MNIST-dataset\" data-toc-modified-id=\"With-MNIST-dataset-2\"><span class=\"toc-item-num\">2&nbsp;&nbsp;</span>With MNIST dataset</a></span><ul class=\"toc-item\"><li><span><a href=\"#Get-the-MNIST-data\" data-toc-modified-id=\"Get-the-MNIST-data-2.1\"><span class=\"toc-item-num\">2.1&nbsp;&nbsp;</span>Get the MNIST data</a></span></li><li><span><a href=\"#Simple-MNIST-Classification-with-Logistic-Regression\" data-toc-modified-id=\"Simple-MNIST-Classification-with-Logistic-Regression-2.2\"><span class=\"toc-item-num\">2.2&nbsp;&nbsp;</span>Simple MNIST Classification with Logistic Regression</a></span></li>"
   ]
  },
  {
   "cell_type": "markdown",
   "id": "cd98dcf9-b5cf-4b66-96f2-37e9dedc5771",
   "metadata": {},
   "source": [
    "# Classification with TensorFlow <a class=\"tocSkip\">"
   ]
  },
  {
   "cell_type": "code",
   "execution_count": 1,
   "id": "b99467c9-f36f-46b5-bc8c-ecd5f3cc5af3",
   "metadata": {},
   "outputs": [
    {
     "name": "stdout",
     "output_type": "stream",
     "text": [
      "TensorFlow:1.15.5\n",
      "NumPy:1.18.5\n",
      "Scikit Learn:0.24.2\n"
     ]
    }
   ],
   "source": [
    "import tensorflow as tf\n",
    "print('TensorFlow:{}'.format(tf.__version__))\n",
    "tf.set_random_seed(123)\n",
    "\n",
    "import numpy as np\n",
    "print('NumPy:{}'.format(np.__version__))\n",
    "np.random.seed(123)\n",
    "\n",
    "import matplotlib.pyplot as plt\n",
    "\n",
    "import sklearn\n",
    "print('Scikit Learn:{}'.format(sklearn.__version__))\n",
    "import sklearn.model_selection\n",
    "import sklearn.datasets\n",
    "\n",
    "import os"
   ]
  },
  {
   "cell_type": "markdown",
   "id": "a725e90c-d81f-4fac-88a3-6c5ca290e6e9",
   "metadata": {},
   "source": [
    "### DatasetsLib stuff:"
   ]
  },
  {
   "cell_type": "code",
   "execution_count": 2,
   "id": "16df34a9-a5d1-4ee5-9236-7021aca45dd1",
   "metadata": {},
   "outputs": [],
   "source": [
    "DATASETSLIB_HOME = '../datasetslib'"
   ]
  },
  {
   "cell_type": "code",
   "execution_count": 3,
   "id": "3b2d649e-e811-43a8-9ee7-9de1e285215d",
   "metadata": {},
   "outputs": [],
   "source": [
    "import sys\n",
    "\n",
    "if not DATASETSLIB_HOME in sys.path:\n",
    "    sys.path.append(DATASETSLIB_HOME)\n",
    "\n",
    "%reload_ext autoreload\n",
    "%autoreload 2\n",
    "\n",
    "import datasetslib"
   ]
  },
  {
   "cell_type": "code",
   "execution_count": 4,
   "id": "f954c43d-999c-4fd7-90e6-511e6f4345e8",
   "metadata": {},
   "outputs": [],
   "source": [
    "datasetslib.datasets_root = os.path.abspath('../datasets')"
   ]
  },
  {
   "cell_type": "markdown",
   "id": "20d13424-f6ef-43bb-be5e-513aa7ffb1d1",
   "metadata": {},
   "source": [
    "# With Generated Dataset"
   ]
  },
  {
   "cell_type": "markdown",
   "id": "d5a386ab-9bf0-4c11-add4-be2afd671f59",
   "metadata": {},
   "source": [
    "## Generate the dataset "
   ]
  },
  {
   "cell_type": "markdown",
   "id": "b2f91388-f5e9-4331-8718-07c5327fed84",
   "metadata": {},
   "source": [
    "Note on `sklearn.datasets.make_classification()`:\n",
    "\n",
    "```python\n",
    "n_features : int, default=20\n",
    "    The total number of features. These comprise ``n_informative``\n",
    "    informative features, ``n_redundant`` redundant features,\n",
    "    ``n_repeated`` duplicated features and\n",
    "    ``n_features-n_informative-n_redundant-n_repeated`` useless features\n",
    "    drawn at random.\n",
    "```"
   ]
  },
  {
   "cell_type": "markdown",
   "id": "24f8c6fc-c13f-4cfe-9501-0bd8c73ba29f",
   "metadata": {},
   "source": [
    "### Small dataset"
   ]
  },
  {
   "cell_type": "code",
   "execution_count": 5,
   "id": "cf8e5571-ad41-4d40-ab2f-0217ad9c46aa",
   "metadata": {},
   "outputs": [
    {
     "data": {
      "image/png": "[encoded data removed]",
      "text/plain": [
       "<Figure size 1008x576 with 1 Axes>"
      ]
     },
     "metadata": {
      "needs_background": "light"
     },
     "output_type": "display_data"
    }
   ],
   "source": [
    "num_output_features = 2\n",
    "num_input_features = 2\n",
    "\n",
    "np.random.seed(1)\n",
    "\n",
    "X, y = sklearn.datasets.make_classification(\n",
    "    n_samples=200,\n",
    "    n_features=num_input_features,\n",
    "    n_informative=2,  # Note.\n",
    "    n_redundant=0,\n",
    "    n_repeated=0,\n",
    "    n_classes=num_output_features,\n",
    "    n_clusters_per_class=1  # Note.\n",
    ")\n",
    "\n",
    "plt.figure(figsize=(14, 8))\n",
    "plt.scatter(\n",
    "    X[:, 0], \n",
    "    X[:, 1], \n",
    "    marker='o', \n",
    "    c=y  # Note: colour indication.\n",
    ")\n",
    "plt.show()"
   ]
  },
  {
   "cell_type": "code",
   "execution_count": 6,
   "id": "239fc281-19a3-4027-a871-7c6af062cf8f",
   "metadata": {},
   "outputs": [
    {
     "name": "stdout",
     "output_type": "stream",
     "text": [
      "[0 1 1 1 1]\n",
      "[[1. 0.]\n",
      " [0. 1.]\n",
      " [0. 1.]\n",
      " [0. 1.]\n",
      " [0. 1.]]\n"
     ]
    }
   ],
   "source": [
    "# One-hot encoding - using `np.eye()`\n",
    "print(y[0:5])\n",
    "\n",
    "# Note:\n",
    "# np.eye(2):\n",
    "# [[1 0] \n",
    "#  [0 1]]\n",
    "# If you then take the y_i'th element for *each example*, you get one-hot, e.g.:\n",
    "# y = [0 1 1 1 1]\n",
    "# y_one_hot = \n",
    "# [[1. 0.]\n",
    "#  [0. 1.]\n",
    "#  [0. 1.]\n",
    "#  [0. 1.]\n",
    "#  [0. 1.]]\n",
    "y = np.eye(num_output_features)[y]\n",
    "print(y[0:5])"
   ]
  },
  {
   "cell_type": "code",
   "execution_count": 7,
   "id": "b4ce80ec-7afe-4d08-9f38-5ff009b0cad1",
   "metadata": {},
   "outputs": [],
   "source": [
    "X_train, X_test, y_train, y_test = sklearn.model_selection.train_test_split(\n",
    "    X, \n",
    "    y, \n",
    "    test_size=.4, \n",
    "    random_state=42\n",
    ")"
   ]
  },
  {
   "cell_type": "code",
   "execution_count": 8,
   "id": "3783e5da-43d3-4cf0-a9df-c21ca276b9fa",
   "metadata": {
    "tags": []
   },
   "outputs": [],
   "source": [
    "num_output_features = y_train.shape[1]\n",
    "num_input_features = X_train.shape[1]\n",
    "\n",
    "learning_rate = 0.001\n",
    "\n",
    "# inputs\n",
    "x = tf.placeholder(dtype=tf.float32, shape=[None, num_input_features], name=\"x\")\n",
    "# output labels\n",
    "y = tf.placeholder(dtype=tf.float32, shape=[None, num_output_features], name=\"y\")\n",
    "\n",
    "# model paramteres\n",
    "w = tf.Variable(tf.zeros([num_input_features, num_output_features]), name=\"w\")\n",
    "b = tf.Variable(tf.zeros([num_output_features]), name=\"b\")\n",
    "model = tf.nn.sigmoid(tf.matmul(x, w) + b)"
   ]
  },
  {
   "cell_type": "code",
   "execution_count": 9,
   "id": "5b357531-fb28-4d9e-8040-85e6b61d3f98",
   "metadata": {},
   "outputs": [],
   "source": [
    "loss = tf.reduce_mean(  # Take a mean across *examples*.\n",
    "    # Binary cross-entropy:\n",
    "    -tf.reduce_sum(\n",
    "        (y * tf.log(model)) + ((1 - y) * tf.log(1 - model)), \n",
    "        axis=1  # <-- NOTE.\n",
    "    )\n",
    ")"
   ]
  },
  {
   "cell_type": "code",
   "execution_count": 10,
   "id": "98157df2-2962-4e10-a5ae-7e60f3ad6020",
   "metadata": {},
   "outputs": [],
   "source": [
    "optimizer = tf.train.GradientDescentOptimizer(learning_rate=learning_rate).minimize(loss)"
   ]
  },
  {
   "cell_type": "code",
   "execution_count": 11,
   "id": "14fa4cf9-f71a-49f4-adb7-d6330bcfcdd1",
   "metadata": {},
   "outputs": [
    {
     "name": "stdout",
     "output_type": "stream",
     "text": [
      "preds_check Tensor(\"Equal:0\", shape=(80,), dtype=bool)\n",
      "epoch 0000  accuracy=0.91250002\n"
     ]
    },
    {
     "data": {
      "image/png": "[encoded data removed]",
      "text/plain": [
       "<Figure size 1008x288 with 2 Axes>"
      ]
     },
     "metadata": {
      "needs_background": "light"
     },
     "output_type": "display_data"
    }
   ],
   "source": [
    "num_epochs = 1  # BTW, only one pass through data here.\n",
    "\n",
    "with tf.Session() as tfs:\n",
    "    tf.global_variables_initializer().run()\n",
    "    \n",
    "    for epoch in range(num_epochs):\n",
    "        # --- Training ---\n",
    "        tfs.run(optimizer, feed_dict={x: X_train, y: y_train})  # Note `placeholder`s as keys!\n",
    "        \n",
    "        # --- Evaluation ---\n",
    "        \n",
    "        # Note:\n",
    "        # tf.argmax(model, axis=1): to find the highest prob. class.\n",
    "        # tf.argmax(y, axis=1): to just identify the true class from the one-hot encoding.\n",
    "        y_pred = tfs.run(\n",
    "            tf.argmax(model, axis=1), \n",
    "            feed_dict={x: X_test}\n",
    "        )\n",
    "        y_orig = tfs.run(\n",
    "            tf.argmax(y, axis=1), \n",
    "            feed_dict={y: y_test}\n",
    "        )\n",
    "        \n",
    "        preds_check = tf.equal(y_pred, y_orig)  # Vector stating whether the prediction was the right class.\n",
    "        print(\"preds_check\", preds_check)\n",
    "        accuracy_op = tf.reduce_mean(tf.cast(preds_check, tf.float32))  # Compute the accuracy metric.\n",
    "        accuracy_score = tfs.run(accuracy_op)\n",
    "        print(\"epoch {0:04d}  accuracy={1:.8f}\".format(epoch, accuracy_score))\n",
    "        \n",
    "        # Plot original data vs predicted.\n",
    "        plt.figure(figsize=(14, 4))\n",
    "        plt.subplot(1, 2, 1)\n",
    "        plt.scatter(X_test[:, 0], X_test[:, 1], marker='o', c=y_orig)\n",
    "        plt.title('Original')\n",
    "        plt.subplot(1, 2, 2)\n",
    "        plt.scatter(X_test[:, 0], X_test[:, 1], marker='o', c=y_pred)\n",
    "        plt.title('Predicted')\n",
    "        plt.show()"
   ]
  },
  {
   "cell_type": "markdown",
   "id": "b62c3219-5213-42fc-9f41-54fc783d0458",
   "metadata": {},
   "source": [
    "### Large dataset"
   ]
  },
  {
   "cell_type": "code",
   "execution_count": 12,
   "id": "4e098e4a-56dd-4918-b2ef-0c3da07cbdd1",
   "metadata": {
    "tags": []
   },
   "outputs": [
    {
     "name": "stdout",
     "output_type": "stream",
     "text": [
      "X.shape: (20000, 200) y.shape: (20000,)\n"
     ]
    }
   ],
   "source": [
    "X, y = sklearn.datasets.make_classification(\n",
    "    n_samples=20000,\n",
    "    n_features=200,\n",
    "    n_informative=200, \n",
    "    n_redundant=0, \n",
    "    n_repeated=0,\n",
    "    n_classes=2,  # Note.\n",
    "    n_clusters_per_class=1\n",
    ")\n",
    "\n",
    "print(\"X.shape:\", X.shape, \"y.shape:\", y.shape)"
   ]
  },
  {
   "cell_type": "code",
   "execution_count": 13,
   "id": "e49816b4-57a3-46bc-9833-c9ab4c3e0cbf",
   "metadata": {},
   "outputs": [
    {
     "name": "stdout",
     "output_type": "stream",
     "text": [
      "num_classes: 2\n",
      "[1 0 0 0 0 1 0 1 1 1]\n",
      "[[0. 1.]\n",
      " [1. 0.]\n",
      " [1. 0.]\n",
      " [1. 0.]\n",
      " [1. 0.]\n",
      " [0. 1.]\n",
      " [1. 0.]\n",
      " [0. 1.]\n",
      " [0. 1.]\n",
      " [0. 1.]]\n"
     ]
    }
   ],
   "source": [
    "num_classes = np.max(y) + 1\n",
    "print(\"num_classes:\", num_classes)\n",
    "\n",
    "print(y[:10])\n",
    "y=np.eye(num_classes)[y]\n",
    "print(y[:10])"
   ]
  },
  {
   "cell_type": "code",
   "execution_count": 14,
   "id": "d043a311-ac16-46f7-ad3c-839f37cd79df",
   "metadata": {},
   "outputs": [
    {
     "name": "stdout",
     "output_type": "stream",
     "text": [
      "(12000, 200) (8000, 2)\n"
     ]
    }
   ],
   "source": [
    "X_train, X_test, y_train, y_test = sklearn.model_selection.train_test_split(X, y, test_size=.4, random_state=42)\n",
    "print(X_train.shape, y_test.shape)"
   ]
  },
  {
   "cell_type": "code",
   "execution_count": 15,
   "id": "a119866d-814a-49ce-800c-f180134395f8",
   "metadata": {
    "tags": []
   },
   "outputs": [],
   "source": [
    "num_output_features = y_train.shape[1] \n",
    "num_input_features = X_train.shape[1]\n",
    "\n",
    "learning_rate = 0.001\n",
    "\n",
    "# inputs\n",
    "x = tf.placeholder(dtype=tf.float32, shape=[None, num_input_features], name=\"x\") \n",
    "# output labels\n",
    "y = tf.placeholder(dtype=tf.float32, shape=[None, num_output_features], name=\"y\") \n",
    "\n",
    "# model paramteres \n",
    "w = tf.Variable(tf.zeros([num_input_features,num_output_features]), name=\"w\")        \n",
    "b = tf.Variable(tf.zeros([num_output_features]), name=\"b\")             \n",
    "model = tf.nn.sigmoid(tf.matmul(x, w) + b)  # Note where sigmoid resides: tf.nn.sigmoid"
   ]
  },
  {
   "cell_type": "code",
   "execution_count": 16,
   "id": "7a752b85-5953-4a37-9da6-3c4fc2e5cca8",
   "metadata": {},
   "outputs": [],
   "source": [
    "# loss function\n",
    "loss = tf.reduce_mean(\n",
    "    -tf.reduce_sum(\n",
    "        ( y * tf.log(model)) + ( (1-y)*tf.log(1-model) ), \n",
    "        axis=1\n",
    "    )\n",
    ")"
   ]
  },
  {
   "cell_type": "code",
   "execution_count": 17,
   "id": "d1386b07-bc52-4d2c-95ee-39ba2e319f5d",
   "metadata": {},
   "outputs": [],
   "source": [
    "optimizer = tf.train.GradientDescentOptimizer(learning_rate=learning_rate).minimize(loss)"
   ]
  },
  {
   "cell_type": "code",
   "execution_count": 18,
   "id": "b50124ee-1df1-4f4b-837d-3af7e4b62f65",
   "metadata": {},
   "outputs": [],
   "source": [
    "from tqdm.notebook import tqdm"
   ]
  },
  {
   "cell_type": "code",
   "execution_count": 19,
   "id": "aa1a9c0a-6e6c-43d4-94cf-ffb5ab2cfe2b",
   "metadata": {},
   "outputs": [
    {
     "data": {
      "application/vnd.jupyter.widget-view+json": {
       "model_id": "8b73f528cecc41458ffc6044372e3dcd",
       "version_major": 2,
       "version_minor": 0
      },
      "text/plain": [
       "  0%|          | 0/500 [00:00<?, ?it/s]"
      ]
     },
     "metadata": {},
     "output_type": "display_data"
    },
    {
     "name": "stdout",
     "output_type": "stream",
     "text": [
      "After 0500 epoch,  accuracy=0.93112499\n"
     ]
    },
    {
     "data": {
      "image/png": "[encoded data removed]",
      "text/plain": [
       "<Figure size 1008x288 with 2 Axes>"
      ]
     },
     "metadata": {
      "needs_background": "light"
     },
     "output_type": "display_data"
    }
   ],
   "source": [
    "num_epochs = 500\n",
    "\n",
    "loss_epochs = np.empty(shape=[num_epochs], dtype=float)\n",
    "accuracy_epochs = np.empty(shape=[num_epochs], dtype=float)\n",
    "\n",
    "accuracy_score = 0\n",
    "\n",
    "with tf.Session() as tfs:\n",
    "    tf.global_variables_initializer().run()\n",
    "    \n",
    "    for epoch in tqdm(range(num_epochs)):\n",
    "        _, loss_val = tfs.run([optimizer, loss], feed_dict={x: X_train, y: y_train})  # Optimizer step, get loss.\n",
    "        \n",
    "        y_pred = tfs.run(tf.argmax(model, axis=1), feed_dict={x: X_test})\n",
    "        y_orig = tfs.run(tf.argmax(y, axis=1), feed_dict={y: y_test})\n",
    "\n",
    "        predictions_check = tf.equal(y_pred, y_orig)\n",
    "        accuracy_function = tf.reduce_mean(tf.cast(predictions_check, tf.float32))\n",
    "        accuracy_score = tfs.run(accuracy_function)\n",
    "        \n",
    "        # Record:\n",
    "        accuracy_epochs[epoch] = accuracy_score\n",
    "        loss_epochs[epoch] = loss_val\n",
    "\n",
    "print(\"After {0:04d} epoch,  accuracy={1:.8f}\".format(num_epochs,accuracy_score))\n",
    "\n",
    "# Plot loss (train) and accuracy (test)\n",
    "plt.figure(figsize=(14,4))\n",
    "\n",
    "plt.subplot(1, 2, 1)\n",
    "plt.axis([0, num_epochs, 0, np.max(loss_epochs)])\n",
    "plt.plot(loss_epochs)\n",
    "plt.title('Loss vs. Epochs')\n",
    "plt.xlabel('# Epoch')\n",
    "plt.ylabel('Loss')\n",
    "\n",
    "plt.subplot(1, 2, 2)\n",
    "plt.axis([0,num_epochs,0,np.max(accuracy_epochs)])\n",
    "plt.plot(accuracy_epochs)\n",
    "plt.title('Accuracy vs. Epochs')\n",
    "plt.xlabel('# Epoch')\n",
    "plt.ylabel('Accuracy')\n",
    "\n",
    "plt.show()"
   ]
  },
  {
   "cell_type": "markdown",
   "id": "2f8ab3ba-d22e-40d6-a208-fec4069276bf",
   "metadata": {},
   "source": [
    "# With MNIST dataset"
   ]
  },
  {
   "cell_type": "markdown",
   "id": "09f319e3-dbc4-4fc2-8516-f15f66eece0a",
   "metadata": {},
   "source": [
    "## Get the MNIST data"
   ]
  },
  {
   "cell_type": "code",
   "execution_count": 20,
   "id": "d874108c-2b9d-4ce7-be09-04e3413518c8",
   "metadata": {},
   "outputs": [
    {
     "name": "stdout",
     "output_type": "stream",
     "text": [
      "WARNING:tensorflow:From <ipython-input-20-550c1cb72aa7>:5: read_data_sets (from tensorflow.contrib.learn.python.learn.datasets.mnist) is deprecated and will be removed in a future version.\n",
      "Instructions for updating:\n",
      "Please use alternatives such as official/mnist/dataset.py from tensorflow/models.\n",
      "WARNING:tensorflow:From /mnt/space/miniconda3/envs/py37_tf1/lib/python3.7/site-packages/tensorflow_core/contrib/learn/python/learn/datasets/mnist.py:260: maybe_download (from tensorflow.contrib.learn.python.learn.datasets.base) is deprecated and will be removed in a future version.\n",
      "Instructions for updating:\n",
      "Please write your own downloading logic.\n",
      "WARNING:tensorflow:From /mnt/space/miniconda3/envs/py37_tf1/lib/python3.7/site-packages/tensorflow_core/contrib/learn/python/learn/datasets/base.py:252: _internal_retry.<locals>.wrap.<locals>.wrapped_fn (from tensorflow.contrib.learn.python.learn.datasets.base) is deprecated and will be removed in a future version.\n",
      "Instructions for updating:\n",
      "Please use urllib or similar directly.\n",
      "Successfully downloaded train-images-idx3-ubyte.gz 9912422 bytes.\n",
      "WARNING:tensorflow:From /mnt/space/miniconda3/envs/py37_tf1/lib/python3.7/site-packages/tensorflow_core/contrib/learn/python/learn/datasets/mnist.py:262: extract_images (from tensorflow.contrib.learn.python.learn.datasets.mnist) is deprecated and will be removed in a future version.\n",
      "Instructions for updating:\n",
      "Please use tf.data to implement this functionality.\n",
      "Extracting /mnt/space/Dropbox/Programming/wsl_repos/_forked/Mastering-TensorFlow-1x/datasets/mnist/train-images-idx3-ubyte.gz\n",
      "Successfully downloaded train-labels-idx1-ubyte.gz 28881 bytes.\n",
      "WARNING:tensorflow:From /mnt/space/miniconda3/envs/py37_tf1/lib/python3.7/site-packages/tensorflow_core/contrib/learn/python/learn/datasets/mnist.py:267: extract_labels (from tensorflow.contrib.learn.python.learn.datasets.mnist) is deprecated and will be removed in a future version.\n",
      "Instructions for updating:\n",
      "Please use tf.data to implement this functionality.\n",
      "Extracting /mnt/space/Dropbox/Programming/wsl_repos/_forked/Mastering-TensorFlow-1x/datasets/mnist/train-labels-idx1-ubyte.gz\n",
      "WARNING:tensorflow:From /mnt/space/miniconda3/envs/py37_tf1/lib/python3.7/site-packages/tensorflow_core/contrib/learn/python/learn/datasets/mnist.py:110: dense_to_one_hot (from tensorflow.contrib.learn.python.learn.datasets.mnist) is deprecated and will be removed in a future version.\n",
      "Instructions for updating:\n",
      "Please use tf.one_hot on tensors.\n",
      "Successfully downloaded t10k-images-idx3-ubyte.gz 1648877 bytes.\n",
      "Extracting /mnt/space/Dropbox/Programming/wsl_repos/_forked/Mastering-TensorFlow-1x/datasets/mnist/t10k-images-idx3-ubyte.gz\n",
      "Successfully downloaded t10k-labels-idx1-ubyte.gz 4542 bytes.\n",
      "Extracting /mnt/space/Dropbox/Programming/wsl_repos/_forked/Mastering-TensorFlow-1x/datasets/mnist/t10k-labels-idx1-ubyte.gz\n",
      "WARNING:tensorflow:From /mnt/space/miniconda3/envs/py37_tf1/lib/python3.7/site-packages/tensorflow_core/contrib/learn/python/learn/datasets/mnist.py:290: DataSet.__init__ (from tensorflow.contrib.learn.python.learn.datasets.mnist) is deprecated and will be removed in a future version.\n",
      "Instructions for updating:\n",
      "Please use alternatives such as official/mnist/dataset.py from tensorflow/models.\n"
     ]
    }
   ],
   "source": [
    "from tensorflow.examples.tutorials.mnist import input_data\n",
    "\n",
    "mnist = input_data.read_data_sets(\n",
    "    os.path.join(datasetslib.datasets_root, 'mnist'), \n",
    "    one_hot=True\n",
    ")"
   ]
  },
  {
   "cell_type": "markdown",
   "id": "116c4d1c-9fb4-45de-b4dc-bbd53b978697",
   "metadata": {},
   "source": [
    "## Simple MNIST Classification with Logistic Regression"
   ]
  },
  {
   "cell_type": "code",
   "execution_count": 23,
   "id": "77faa8d6-5f7f-4b29-a48f-647f575387e2",
   "metadata": {
    "tags": []
   },
   "outputs": [
    {
     "name": "stdout",
     "output_type": "stream",
     "text": [
      "550\n"
     ]
    }
   ],
   "source": [
    "num_output_features = 10  # 0-9 digits\n",
    "num_input_features = 784  # total pixels\n",
    "\n",
    "learning_rate = 0.001\n",
    "num_epochs = 1\n",
    "batch_size = 100\n",
    "\n",
    "num_batches = int(mnist.train.num_examples / batch_size)\n",
    "print(num_batches)"
   ]
  },
  {
   "cell_type": "code",
   "execution_count": 24,
   "id": "63335cf4-9597-4bf5-8d05-4615a98f0536",
   "metadata": {
    "tags": []
   },
   "outputs": [],
   "source": [
    "# input images\n",
    "x = tf.placeholder(dtype=tf.float32, shape=[None, num_input_features], name=\"x\")\n",
    "# output labels\n",
    "y = tf.placeholder(dtype=tf.float32, shape=[None, num_output_features], name=\"y\")\n",
    "\n",
    "# model paramteres\n",
    "w = tf.Variable(tf.zeros([num_input_features, num_output_features]), name=\"w\")\n",
    "b = tf.Variable(tf.zeros([num_output_features]), name=\"b\")"
   ]
  },
  {
   "cell_type": "code",
   "execution_count": 26,
   "id": "7b0e48b2-8197-4788-ac14-506fcdad5230",
   "metadata": {},
   "outputs": [],
   "source": [
    "model = tf.nn.softmax(tf.matmul(x, w) + b)  # NOTE: Using softmax here!"
   ]
  },
  {
   "cell_type": "code",
   "execution_count": 27,
   "id": "13df6c4e-41c6-4fb7-bb14-08a43d2e1f2e",
   "metadata": {},
   "outputs": [],
   "source": [
    "# ---------------------------------------\n",
    "# Loss - using categorical cross-entropy\n",
    "# ---------------------------------------\n",
    "\n",
    "loss = tf.reduce_mean(\n",
    "    -tf.reduce_sum(\n",
    "        y * tf.log(model),\n",
    "        axis=1\n",
    "    )\n",
    ")"
   ]
  },
  {
   "cell_type": "code",
   "execution_count": 28,
   "id": "b8eb5aa2-2138-4544-8cab-5d798e5f3170",
   "metadata": {},
   "outputs": [],
   "source": [
    "optimizer = tf.train.GradientDescentOptimizer(learning_rate=learning_rate).minimize(loss)"
   ]
  },
  {
   "cell_type": "code",
   "execution_count": 29,
   "id": "327e3f3d-28b6-4444-9298-1898307fdd52",
   "metadata": {},
   "outputs": [
    {
     "name": "stdout",
     "output_type": "stream",
     "text": [
      "epoch 0000  accuracy=0.75950003\n"
     ]
    }
   ],
   "source": [
    "with tf.Session() as tfs:\n",
    "    tf.global_variables_initializer().run()\n",
    "    \n",
    "    for epoch in range(num_epochs):\n",
    "        \n",
    "        # --- TRAINING ---\n",
    "        for batch in range(num_batches):\n",
    "            # Note that we're now batch-iterating.\n",
    "            batch_x, batch_y = mnist.train.next_batch(batch_size)\n",
    "            tfs.run(optimizer, feed_dict={x: batch_x, y: batch_y})\n",
    "        \n",
    "        # --- EVALUATION ---\n",
    "        predictions_check = tf.equal(\n",
    "            tf.argmax(model, axis=1), \n",
    "            tf.argmax(y, axis=1)\n",
    "        )\n",
    "        accuracy_function = tf.reduce_mean(\n",
    "            tf.cast(predictions_check, tf.float32)\n",
    "        )\n",
    "        feed_dict = {x: mnist.test.images, y: mnist.test.labels}  # Feed the whole test dataset at eval. time.\n",
    "        accuracy_score = tfs.run(accuracy_function, feed_dict)\n",
    "        print(\"epoch {0:04d}  accuracy={1:.8f}\".format(epoch, accuracy_score))"
   ]
  },
  {
   "cell_type": "markdown",
   "id": "7f0392e9-9bdd-4409-95fe-7611b8bbeef4",
   "metadata": {},
   "source": [
    "#### Now put MNIST multi-class classification into a convenience funciton:"
   ]
  },
  {
   "cell_type": "code",
   "execution_count": 30,
   "id": "da2eb58f-c70d-42b8-9523-5b3ec8e6e663",
   "metadata": {
    "tags": []
   },
   "outputs": [],
   "source": [
    "def mnist_batch_func(batch_size=100):\n",
    "    batch_x, batch_y = mnist.train.next_batch(batch_size)\n",
    "    return [batch_x, batch_y]\n",
    "\n",
    "\n",
    "def tensorflow_classification(\n",
    "    num_epochs, \n",
    "    num_batches, \n",
    "    batch_size,\n",
    "    batch_func, \n",
    "    optimizer, \n",
    "    test_x, \n",
    "    test_y\n",
    "):\n",
    "    accuracy_epochs = np.empty(shape=[num_epochs], dtype=np.float32)\n",
    "    with tf.Session() as tfs:\n",
    "        tf.global_variables_initializer().run()\n",
    "        \n",
    "        for epoch in range(num_epochs):\n",
    "            \n",
    "            # Train...\n",
    "            for batch in range(num_batches):\n",
    "                batch_x, batch_y = batch_func(batch_size)\n",
    "                feed_dict = {x: batch_x, y: batch_y}\n",
    "                tfs.run(optimizer, feed_dict)\n",
    "            \n",
    "            # Eval...\n",
    "            predictions_check = tf.equal(\n",
    "                tf.argmax(model, axis=1), \n",
    "                tf.argmax(y, axis=1)\n",
    "            )\n",
    "            accuracy_function = tf.reduce_mean(\n",
    "                tf.cast(predictions_check, tf.float32)\n",
    "            )\n",
    "            feed_dict = {x: test_x, y: test_y}\n",
    "            accuracy_score = tfs.run(accuracy_function, feed_dict)\n",
    "            accuracy_epochs[epoch] = accuracy_score\n",
    "            print(\"epoch {0:04d}  accuracy={1:.8f}\".format(epoch, accuracy_score))\n",
    "\n",
    "    plt.figure(figsize=(14, 8))\n",
    "    plt.axis([0, num_epochs, np.min(accuracy_epochs), np.max(accuracy_epochs)])\n",
    "    plt.plot(accuracy_epochs, label='Accuracy Score')\n",
    "    plt.title('Accuracy over Iterations')\n",
    "    plt.xlabel('# Epoch')\n",
    "    plt.ylabel('Accuracy Score')\n",
    "    plt.legend()\n",
    "    plt.show()"
   ]
  },
  {
   "cell_type": "code",
   "execution_count": 31,
   "id": "bb761ee7-847c-49a8-9c7f-b1fdea6555af",
   "metadata": {},
   "outputs": [
    {
     "name": "stdout",
     "output_type": "stream",
     "text": [
      "epoch 0000  accuracy=0.75880003\n",
      "epoch 0001  accuracy=0.79500002\n",
      "epoch 0002  accuracy=0.81269997\n",
      "epoch 0003  accuracy=0.82249999\n",
      "epoch 0004  accuracy=0.83260000\n",
      "epoch 0005  accuracy=0.83690000\n",
      "epoch 0006  accuracy=0.84170002\n",
      "epoch 0007  accuracy=0.84539998\n",
      "epoch 0008  accuracy=0.85039997\n",
      "epoch 0009  accuracy=0.85380000\n",
      "epoch 0010  accuracy=0.85720003\n",
      "epoch 0011  accuracy=0.86019999\n",
      "epoch 0012  accuracy=0.86269999\n",
      "epoch 0013  accuracy=0.86420000\n",
      "epoch 0014  accuracy=0.86629999\n",
      "epoch 0015  accuracy=0.86699998\n",
      "epoch 0016  accuracy=0.86860001\n",
      "epoch 0017  accuracy=0.87080002\n",
      "epoch 0018  accuracy=0.87269998\n",
      "epoch 0019  accuracy=0.87379998\n",
      "epoch 0020  accuracy=0.87459999\n",
      "epoch 0021  accuracy=0.87589997\n",
      "epoch 0022  accuracy=0.87699997\n",
      "epoch 0023  accuracy=0.87769997\n",
      "epoch 0024  accuracy=0.87819999\n",
      "epoch 0025  accuracy=0.87919998\n",
      "epoch 0026  accuracy=0.87940001\n",
      "epoch 0027  accuracy=0.88040000\n",
      "epoch 0028  accuracy=0.88099998\n",
      "epoch 0029  accuracy=0.88200003\n"
     ]
    },
    {
     "data": {
      "image/png": "[encoded data removed]",
      "text/plain": [
       "<Figure size 1008x576 with 1 Axes>"
      ]
     },
     "metadata": {
      "needs_background": "light"
     },
     "output_type": "display_data"
    }
   ],
   "source": [
    "# And run with 30 epochs...\n",
    "num_epochs=30\n",
    "tensorflow_classification(\n",
    "    num_epochs=num_epochs, \n",
    "    num_batches=num_batches, \n",
    "    batch_size=batch_size, \n",
    "    batch_func=mnist_batch_func, \n",
    "    optimizer=optimizer,\n",
    "    test_x=mnist.test.images,\n",
    "    test_y=mnist.test.labels\n",
    ")"
   ]
  }
 ],
 "metadata": {
  "kernelspec": {
   "display_name": "Python 3",
   "language": "python",
   "name": "python3"
  },
  "language_info": {
   "codemirror_mode": {
    "name": "ipython",
    "version": 3
   },
   "file_extension": ".py",
   "mimetype": "text/x-python",
   "name": "python",
   "nbconvert_exporter": "python",
   "pygments_lexer": "ipython3",
   "version": "3.7.10"
  }
 },
 "nbformat": 4,
 "nbformat_minor": 5
}
