{
 "cells": [
  {
   "cell_type": "markdown",
   "id": "0bb1ac2d-e232-4016-90a7-0fcc371b493f",
   "metadata": {},
   "source": [
    "# TF1 Variable Reuse\n",
    "\n",
    "#### Follows the article here: https://medium.com/@hideyuki/what-does-variable-reuse-mean-in-tensorflow-40e86535026b"
   ]
  },
  {
   "cell_type": "code",
   "execution_count": 1,
   "id": "7f6d5749-7162-4e82-8a43-c604b3bc8b04",
   "metadata": {},
   "outputs": [],
   "source": [
    "import tensorflow as tf"
   ]
  },
  {
   "cell_type": "markdown",
   "id": "5ffba8bf-74f8-408e-b97f-aee7ab7910a1",
   "metadata": {},
   "source": [
    "<img src=\"https://miro.medium.com/max/1400/0*LLbCq-xvkHT7Wub7.png\" width=400 />"
   ]
  },
  {
   "cell_type": "code",
   "execution_count": 2,
   "id": "7dc9637f-ad36-4a10-b852-ba30d84c6217",
   "metadata": {},
   "outputs": [],
   "source": [
    "def add_tax_and_shipping(price):\n",
    "    \"\"\"Add tax and shipping\n",
    "    \"\"\"    \n",
    "    with tf.variable_scope(\"other_charge\") as scope:\n",
    "        tax = tf.get_variable(\n",
    "            \"tax\", \n",
    "            [], \n",
    "            dtype=tf.float32,\n",
    "            initializer=tf.constant_initializer(0.05)  # 5%\n",
    "        )\n",
    "        shipping = tf.get_variable(\n",
    "            \"shipping\", \n",
    "            [], \n",
    "            dtype=tf.float32,\n",
    "            initializer=tf.constant_initializer(10.0)  # $10\n",
    "        )    \n",
    "        total_price = price * (1.0 + tax) + shipping\n",
    "    return total_price"
   ]
  },
  {
   "cell_type": "code",
   "execution_count": 3,
   "id": "d1c3b2d7-e5c6-4b31-b3c8-c59c538aae1d",
   "metadata": {},
   "outputs": [
    {
     "name": "stdout",
     "output_type": "stream",
     "text": [
      "Price of the book: 20.50\n"
     ]
    }
   ],
   "source": [
    "book_price = add_tax_and_shipping(10.0)\n",
    "init_op = tf.global_variables_initializer()  # Set up operator to assign all init values to variables\n",
    "with tf.Session() as s:\n",
    "    s.run(init_op)  # Actually assign initial value to variables\n",
    "    price = s.run(book_price)\n",
    "    print(f\"Price of the book: {price:.2f}\")"
   ]
  },
  {
   "cell_type": "markdown",
   "id": "69d90343-cbd5-4c4a-960a-0bab6e1c8d12",
   "metadata": {},
   "source": [
    "**Now we try to add another item - sketch pad...**"
   ]
  },
  {
   "cell_type": "code",
   "execution_count": 4,
   "id": "a3725711-8f3c-4ab5-9d80-ccb154fa4c7b",
   "metadata": {},
   "outputs": [
    {
     "name": "stdout",
     "output_type": "stream",
     "text": [
      "Variable other_charge/tax already exists, disallowed. Did you mean to set reuse=True or reuse=tf.AUTO_REUSE in VarScope? Originally defined at:\n",
      "\n",
      "  File \"/mnt/space/miniconda3/envs/py37_tf1/lib/python3.7/site-packages/tensorflow_core/python/framework/ops.py\", line 1748, in __init__\n",
      "    self._traceback = tf_stack.extract_stack()\n",
      "  File \"/mnt/space/miniconda3/envs/py37_tf1/lib/python3.7/site-packages/tensorflow_core/python/framework/ops.py\", line 3426, in _create_op_internal\n",
      "    op_def=op_def)\n",
      "  File \"/mnt/space/miniconda3/envs/py37_tf1/lib/python3.7/site-packages/tensorflow_core/python/framework/ops.py\", line 3357, in create_op\n",
      "    attrs, op_def, compute_device)\n",
      "  File \"/mnt/space/miniconda3/envs/py37_tf1/lib/python3.7/site-packages/tensorflow_core/python/util/deprecation.py\", line 507, in new_func\n",
      "    return func(*args, **kwargs)\n",
      "  File \"/mnt/space/miniconda3/envs/py37_tf1/lib/python3.7/site-packages/tensorflow_core/python/framework/op_def_library.py\", line 794, in _apply_op_helper\n",
      "    op_def=op_def)\n",
      "\n"
     ]
    }
   ],
   "source": [
    "try:\n",
    "    sketchpad_price = add_tax_and_shipping(20.0)\n",
    "    with tf.Session() as s:\n",
    "        price = s.run(sketchpad_price)\n",
    "        print(f\"Price of the sketchpad: {price:.2f}\")\n",
    "except ValueError as ex:\n",
    "    print(ex)"
   ]
  },
  {
   "cell_type": "code",
   "execution_count": 5,
   "id": "b54e344b-75a5-421e-9b91-c761e1acb86f",
   "metadata": {},
   "outputs": [],
   "source": [
    "tf.reset_default_graph()  # To clean up the TF state before going to the next example..."
   ]
  },
  {
   "cell_type": "markdown",
   "id": "5f72554a-0319-4488-8d8c-ab810561ca0e",
   "metadata": {},
   "source": [
    "**Notice exception:**\n",
    "\n",
    "`Variable other_charge/tax already exists, disallowed. Did you mean to set reuse=True or reuse=tf.AUTO_REUSE in VarScope? Originally defined at:`\n",
    "\n",
    "The reason you are getting this error is because TensorFlow prohibits calling the get_variable function for the same variable again by default.\n",
    "\n",
    "How can you work around this?\n",
    "\n",
    "Well, TensorFlow has a special keyword called `reuse`.\n",
    "\n",
    "You specify the reuse parameter in the `variable_scope` where a variable is defined (`tf.variable_scope()`). "
   ]
  },
  {
   "cell_type": "code",
   "execution_count": 6,
   "id": "b0245ff4-be6b-4237-a2d2-c0303b0f91bf",
   "metadata": {},
   "outputs": [
    {
     "name": "stdout",
     "output_type": "stream",
     "text": [
      "Variable other_charge/tax does not exist, or was not created with tf.get_variable(). Did you mean to set reuse=tf.AUTO_REUSE in VarScope?\n"
     ]
    }
   ],
   "source": [
    "try:\n",
    "    with tf.variable_scope(\n",
    "        \"other_charge\", \n",
    "        reuse=True  # <----------------- This line causes an exception to be thrown on the next line!\n",
    "    ) as scope:\n",
    "        tax = tf.get_variable(\n",
    "            \"tax\", \n",
    "            [], \n",
    "            dtype=tf.float32,\n",
    "            initializer=tf.constant_initializer(0.05)\n",
    "        )\n",
    "        shipping = tf.get_variable(\n",
    "            \"shipping\", \n",
    "            [], \n",
    "            dtype=tf.float32,\n",
    "            initializer=tf.constant_initializer(10.0)\n",
    "        )\n",
    "except ValueError as ex:\n",
    "    print(ex)"
   ]
  },
  {
   "cell_type": "markdown",
   "id": "8c5b024d-956a-4dc5-9253-b92988e81d03",
   "metadata": {},
   "source": [
    "**So in order to use `reuse=True`, the variable has to already exist.**"
   ]
  },
  {
   "cell_type": "code",
   "execution_count": 7,
   "id": "0b062425-c382-4e00-bc9b-1486424a48c3",
   "metadata": {},
   "outputs": [],
   "source": [
    "tf.reset_default_graph()  # To clean up the TF state before going to the next example..."
   ]
  },
  {
   "cell_type": "markdown",
   "id": "abe02883-c9ca-4168-959d-f95d15273ee8",
   "metadata": {},
   "source": [
    "### Approach 1: `tf.AUTO_REUSE`"
   ]
  },
  {
   "cell_type": "code",
   "execution_count": 8,
   "id": "8bf22e1c-acf1-436d-bd5d-4e82cd8cab77",
   "metadata": {},
   "outputs": [],
   "source": [
    "def add_tax_and_shipping(price):\n",
    "    with tf.variable_scope(\n",
    "        \"other_charge\", \n",
    "        reuse=tf.AUTO_REUSE  # <----------------- Use tf.AUTO_REUSE\n",
    "    ) as scope:\n",
    "        tax = tf.get_variable(\n",
    "            \"tax\", \n",
    "            [], \n",
    "            dtype=tf.float32,\n",
    "            initializer=tf.constant_initializer(0.05)\n",
    "        )\n",
    "        shipping = tf.get_variable(\n",
    "            \"shipping\", \n",
    "            [], \n",
    "            dtype=tf.float32,\n",
    "            initializer=tf.constant_initializer(10.0)\n",
    "        )\n",
    "        total_price = price * (1.0 + tax) + shipping\n",
    "    return total_price"
   ]
  },
  {
   "cell_type": "code",
   "execution_count": 9,
   "id": "5b91c32d-c9ea-4b86-b0f8-c117234c8633",
   "metadata": {},
   "outputs": [
    {
     "name": "stdout",
     "output_type": "stream",
     "text": [
      "Price of the book: 20.50\n",
      "Price of the sketchpad: 31.00\n",
      "Doubling tax...\n",
      "Price of the book: 21.00\n",
      "Price of the sketchpad: 32.00\n"
     ]
    }
   ],
   "source": [
    "book_price = add_tax_and_shipping(10.0)\n",
    "sketchpad_price = add_tax_and_shipping(20.0)\n",
    "\n",
    "init_op = tf.global_variables_initializer()\n",
    "\n",
    "with tf.Session() as s:\n",
    "    s.run(init_op)\n",
    "    price = s.run(book_price)\n",
    "    print(f\"Price of the book: {price:.2f}\")\n",
    "    price = s.run(sketchpad_price)\n",
    "    print(f\"Price of the sketchpad: {price:.2f}\")   \n",
    "\n",
    "\n",
    "# Try to double tax!\n",
    "print(\"Doubling tax...\")\n",
    "graph = tf.get_default_graph()\n",
    "tax = graph.get_tensor_by_name(\"other_charge/tax:0\")\n",
    "double_tax = tf.assign(tax, tax * 2.0)\n",
    "\n",
    "with tf.Session() as s:\n",
    "    s.run(init_op)\n",
    "    s.run(double_tax)\n",
    "    price = s.run(book_price)\n",
    "    print(f\"Price of the book: {price:.2f}\")\n",
    "    price = s.run(sketchpad_price)\n",
    "    print(f\"Price of the sketchpad: {price:.2f}\")  "
   ]
  },
  {
   "cell_type": "code",
   "execution_count": 10,
   "id": "d47d1651-f3fb-42e0-9545-7229b646ef3a",
   "metadata": {},
   "outputs": [],
   "source": [
    "tf.reset_default_graph()  # To clean up the TF state before going to the next example..."
   ]
  },
  {
   "cell_type": "markdown",
   "id": "f4d96757-6de2-4b74-b0ae-32a1fdb65d8d",
   "metadata": {},
   "source": [
    "---\n",
    "\n",
    "### ⚠️ Be careful with `AUTO_REUSE`!\n",
    "\n",
    "`tf.AUTO_REUSE` is convenient, but you also have to be careful not to inadvertently share (reuse) variables. For example, this CIFAR-10 script defines a convolutional layer using a function below:\n",
    "\n",
    "```python\n",
    "def single_conv_block(\n",
    "    tens, \n",
    "    block_name, \n",
    "    input_filters, \n",
    "    output_filters, \n",
    "    kernel_size=3, \n",
    "    padding=\"SAME\", \n",
    "    strides=1,\n",
    "    is_training=True\n",
    "):\n",
    "    scope_name = block_name + \"_cv\"\n",
    "    with tf.variable_scope(\n",
    "        scope_name,\n",
    "        # reuse=tf.AUTO_REUSE  # <-- This here.\n",
    "    ) as scope:\n",
    "        weights = tf.get_variable(\n",
    "            \"weights\", \n",
    "            shape=[kernel_size, kernel_size, input_filters, output_filters],\n",
    "            dtype=tf.float32,\n",
    "            initializer=tf.contrib.layers.xavier_initializer(uniform=False, seed=0)\n",
    "        )\n",
    "        bias = tf.get_variable(\n",
    "            \"bias\", \n",
    "            shape=[output_filters], \n",
    "            dtype=tf.float32\n",
    "        )\n",
    "        z = tf.add(\n",
    "            tf.nn.conv2d(tens, weights, strides=[1, strides, strides, 1], padding=padding), \n",
    "            bias\n",
    "        )\n",
    "        bn = tf.layers.batch_normalization(z, training=is_training)\n",
    "        activation = tf.nn.relu(bn, name=scope.name)\n",
    "    return activation\n",
    "```\n",
    "\n",
    "If one \n",
    "1. forgets to use different `block_name` and also \n",
    "2. sets reuse to `tf.AUTO_REUSE`, \n",
    "\n",
    "multiple convolutional layers will **end up using the same weights**, which is clearly not what one wants!!!\n",
    "\n",
    "---"
   ]
  },
  {
   "cell_type": "markdown",
   "id": "2f484726-0b54-4552-a14a-de5a78b6715a",
   "metadata": {},
   "source": [
    "### Approach 2: Explicit Control"
   ]
  },
  {
   "cell_type": "markdown",
   "id": "f3e9ffda-9254-4db6-8105-2b0c7b4da8a9",
   "metadata": {},
   "source": [
    "If you want to explicitly control reuse of variable, you can explicitly say `reuse=True` **the second time you want to use the variable**."
   ]
  },
  {
   "cell_type": "code",
   "execution_count": 11,
   "id": "89df6649-596d-4f66-9146-adda8cb37c86",
   "metadata": {},
   "outputs": [],
   "source": [
    "def add_tax_and_shipping(\n",
    "    price, \n",
    "    my_reuse=False  # <-- HERE.\n",
    "):\n",
    "    with tf.variable_scope(\n",
    "        \"other_charge\", \n",
    "        reuse=my_reuse  # <-- HERE.\n",
    "    ) as scope:\n",
    "        tax = tf.get_variable(\n",
    "            \"tax\", \n",
    "            [], \n",
    "            dtype=tf.float32,\n",
    "            initializer=tf.constant_initializer(0.05)\n",
    "        )\n",
    "        shipping = tf.get_variable(\n",
    "            \"shipping\", \n",
    "            [], \n",
    "            dtype=tf.float32,\n",
    "            initializer=tf.constant_initializer(10.0)\n",
    "        )\n",
    "        total_price = price * (1.0 + tax) + shipping\n",
    "    return total_price"
   ]
  },
  {
   "cell_type": "code",
   "execution_count": 12,
   "id": "696dfb64-668d-4209-938b-d32ad41cdc0f",
   "metadata": {},
   "outputs": [
    {
     "name": "stdout",
     "output_type": "stream",
     "text": [
      "Price of the book: 20.50\n",
      "Price of the sketchpad: 31.00\n"
     ]
    }
   ],
   "source": [
    "book_price = add_tax_and_shipping(10.0)\n",
    "sketchpad_price = add_tax_and_shipping(20.0, my_reuse=True)  # <-- SET HERE (2nd use onward).\n",
    "\n",
    "init_op = tf.global_variables_initializer()\n",
    "\n",
    "with tf.Session() as s:\n",
    "    s.run(init_op)\n",
    "    price = s.run(book_price)\n",
    "    print(f\"Price of the book: {price:.2f}\")\n",
    "    price = s.run(sketchpad_price)\n",
    "    print(f\"Price of the sketchpad: {price:.2f}\")   "
   ]
  }
 ],
 "metadata": {
  "kernelspec": {
   "display_name": "Python 3",
   "language": "python",
   "name": "python3"
  },
  "language_info": {
   "codemirror_mode": {
    "name": "ipython",
    "version": 3
   },
   "file_extension": ".py",
   "mimetype": "text/x-python",
   "name": "python",
   "nbconvert_exporter": "python",
   "pygments_lexer": "ipython3",
   "version": "3.7.10"
  }
 },
 "nbformat": 4,
 "nbformat_minor": 5
}
