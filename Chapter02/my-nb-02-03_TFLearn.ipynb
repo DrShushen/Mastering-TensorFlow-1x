{
 "cells": [
  {
   "cell_type": "code",
   "execution_count": 9,
   "id": "86798c06-dcde-41ba-8f6d-63bbcf02c8ca",
   "metadata": {},
   "outputs": [
    {
     "data": {
      "text/html": [
       "\n",
       "<!-- Align the markdown tables to the left-->\n",
       "\n",
       "<style>\n",
       "table {\n",
       "    margin-left: 0 !important;\n",
       "    margin-right: auto;\n",
       "}\n",
       "</style>\n"
      ],
      "text/plain": [
       "<IPython.core.display.HTML object>"
      ]
     },
     "metadata": {},
     "output_type": "display_data"
    }
   ],
   "source": [
    "%%html\n",
    "\n",
    "<!-- Align the markdown tables to the left-->\n",
    "\n",
    "<style>\n",
    "table {\n",
    "    margin-left: 0 !important;\n",
    "    margin-right: auto;\n",
    "}\n",
    "</style>"
   ]
  },
  {
   "cell_type": "markdown",
   "id": "e5e93534-cde9-4a98-9e0a-940053c657eb",
   "metadata": {},
   "source": [
    "# TFLearn\n",
    "\n",
    "**Notes:**\n",
    "* ⚠️ Not to be confused with `TF Learn` (with a space), a former name for `TF Estimator`.\n",
    "* ⚠️ Its own library external to TF.\n",
    "* ⚠️ Only up and including to `v0.3` is compatible with TF1.\n",
    "\n",
    "<br/>\n",
    "\n",
    "**Installation:**\n",
    "```bash\n",
    "pip install 'tflearn>=0.3,<0.4'\n",
    "```\n",
    "\n",
    "<br/>\n",
    "\n",
    "**URLs:**\n",
    "* Docs: http://tflearn.org/\n",
    "* GitHub: https://github.com/tflearn/tflearn\n",
    "* GitHub version tags: https://github.com/tflearn/tflearn/tags\n",
    "* PyPI: https://pypi.org/project/tflearn/\n",
    "* PyPI release history: https://pypi.org/project/tflearn/#history\n",
    "\n",
    "### TFLearn Workflow:\n",
    "1. Create an input layer first.\n",
    "2. Pass the input object to create further layers.\n",
    "3. Add the output layer.\n",
    "4. Create the net using an estimator layer such as `regression`.\n",
    "5. Create a model from the net created in the previous step.\n",
    "6. Train the model with the `model.fit()` method.\n",
    "7. Use the trained model to predict or evaluate.\n",
    "\n",
    "### TFLearn: Creating Layers Example:\n",
    "1. Create an input layer first:\n",
    "```python\n",
    "input_layer = tflearn.input_data(shape=[None, num_inputs])\n",
    "```\n",
    "2. Pass the input object to create further layers:\n",
    "```python\n",
    "layer1 = tflearn.fully_connected(\n",
    "    input_layer,\n",
    "    10,\n",
    "    activation='relu'\n",
    ")\n",
    "layer2 = tflearn.fully_connected(\n",
    "    layer1,\n",
    "    10,\n",
    "    activation='relu'\n",
    ")\n",
    "```\n",
    "3. Add the output layer:\n",
    "```python\n",
    "output = tflearn.fully_connected(\n",
    "    layer2,\n",
    "    n_classes,\n",
    "    activation='softmax'\n",
    ")\n",
    "```\n",
    "4. Create the final net from the estimator layer such as regression:\n",
    "```python\n",
    "net = tflearn.regression(\n",
    "    output,\n",
    "    optimizer='adam',\n",
    "    metric=tflearn.metrics.Accuracy(),\n",
    "    loss='categorical_crossentropy',\n",
    ")\n",
    "```\n"
   ]
  },
  {
   "cell_type": "markdown",
   "id": "b438e36b-c79b-46ba-860e-9b4f883bc57a",
   "metadata": {},
   "source": [
    "### TFLearn: Layers:\n",
    " \n",
    "* TFLearn **core** layers in `tflearn.layers.core`:\n",
    "| Layer class         | Description |\n",
    "| ------------------- | ----------- |\n",
    "| `input_data`        | **This layer is used to specify the input layer for the neural network.** |\n",
    "| `fully_connected`   | This layer is used to specify a layer where all the neurons are connected to all the neurons in the previous layer. |\n",
    "| `dropout`           | This layer is used to specify the dropout regularization. The input elements are scaled by `1/keep_prob` while keeping the expected sum unchanged. |\n",
    "| `custom_layer`      | This layer is used to specify a custom function to be applied to the input. This class wraps our custom function and presents the function as a layer. |\n",
    "| `reshape`           | This layer reshapes the input into the output of specified shape. |\n",
    "| `flatten`           | This layer converts the input tensor to a 2D tensor. |\n",
    "| `activation`        | This layer applies the specified activation function to the input tensor. |\n",
    "| `single_unit`       | This layer applies the linear function to the inputs. |\n",
    "| `highway`           | This layer implements the fully connected highway function. |\n",
    "| `one_hot_encoding`  | This layer converts the numeric labels to their binary vector one-hot encoded representations. |\n",
    "| `time_distributed`  | This layer applies the specified function to each time step of the input tensor. |\n",
    "| `multi_target_data` | This layer creates and concatenates multiple placeholders, specifically used when the layers use targets from multiple sources. |\n",
    "\n",
    "* TFLearn **convolutional** layers in `tflearn.layers.conv`:\n",
    "| Layer class         | Description |\n",
    "| ------------------- | ----------- |\n",
    "| `conv_1d` | This layer applies 1D convolutions to the input data |\n",
    "| `conv_2d` | This layer applies 2D convolutions to the input data |\n",
    "| `conv_3d` | This layer applies 3D convolutions to the input data |\n",
    "| `conv_2d_transpose` | This layer applies transpose of conv2_d to the input data |\n",
    "| `conv_3d_transpose` | This layer applies transpose of conv3_d to the input data |\n",
    "| `atrous_conv_2d` | This layer computes a 2-D atrous convolution |\n",
    "| `grouped_conv_2d` | This layer computes a depth-wise 2-D convolution |\n",
    "| `max_pool_1d` | This layer computes 1-D max pooling |\n",
    "| `max_pool_2d` | This layer computes 2D max pooling |\n",
    "| `avg_pool_1d` | This layer computes 1D average pooling |\n",
    "| `avg_pool_2d` | This layer computes 2D average pooling upsample_2d This layer applies the row and column wise 2-D repeat operation |\n",
    "| `upscore_layer` | This layer implements the upscore as specified in http://arxiv.org/abs/1411.4038. |\n",
    "| `global_max_pool` | This layer implements the global max pooling operation |\n",
    "| `global_avg_pool` | This layer implements the global average pooling operation |\n",
    "| `residual_block` | This layer implements the residual block to create deep residual networks |\n",
    "| `residual_bottleneck` | This layer implements the residual bottleneck block for deep residual networks |\n",
    "| `resnext_block` | This layer implements the ResNeXt block |\n",
    "\n",
    "* TFLearn **recurrent** layers in `tflearn.layers.recurrent`:\n",
    "| Layer class         | Description |\n",
    "| ------------------- | ----------- |\n",
    "| `simple_rnn` | This layer implements the simple recurrent neural network model |\n",
    "| `bidirectional_rnn` | This layer implements the bi-directional RNN model |\n",
    "| `lstm` | This layer implements the LSTM model |\n",
    "| `gru` | This layer implements the GRU model |\n",
    "\n",
    "* TFLearn **normalisation** layers in `tflearn.layers.normalization`:\n",
    "| Layer class         | Description |\n",
    "| ------------------- | ----------- |\n",
    "| `batch_normalization` | This layer normalizes the output of activations of previous layers for each batch |\n",
    "| `local_response_normalization` | This layer implements the LR normalization |\n",
    "| `l2_normalization` | This layer applies the L2 normalization to the input tensors |\n",
    "\n",
    "* TFLearn **embedding** layers in `tflearn.layers.embedding_ops`:\n",
    "| Layer class         | Description |\n",
    "| ------------------- | ----------- |\n",
    "| `embedding` | This layer implements the embedding function for a sequence of integer IDs or floats |\n",
    "\n",
    "* TFLearn **merge** layers in `tflearn.layers.merge_ops`:\n",
    "| Layer class     | Description |\n",
    "| --------------- | ----------- |\n",
    "| `merge_outputs` | This layer merges the list of tensors into a single tensor, generally used to merge the output tensors of the same shape |\n",
    "| `merge`         | This layer merges the list of tensors into a single tensor; you can specify the axis along which the merge needs to be done |\n",
    "\n",
    "* TFLearn **estimator** layers:\n",
    "| Layer class  | Description |\n",
    "| ------------ | ----------- |\n",
    "| `regression` | This layer implements the linear or logistic regression |"
   ]
  },
  {
   "cell_type": "markdown",
   "id": "29f67d4c-4281-4f55-86df-0da3ddcb537e",
   "metadata": {},
   "source": [
    "### TFLearn Optimizers:\n",
    "\n",
    "Located in: `tflearn.optimizers`.\n",
    "\n",
    "Optimizers implemented are:\n",
    "* SGD\n",
    "* RMSprop\n",
    "* Adam\n",
    "* Momentum\n",
    "* AdaGrad\n",
    "* Ftrl\n",
    "* AdaDelta\n",
    "* ProximalAdaGrad\n",
    "* Nesterov\n",
    "* *You can create custom optimizers by extending the `tflearn.optimizers.Optimizer` base class.*\n",
    "\n",
    "### TFLearn Metrics:\n",
    "\n",
    "Located in: `tflearn.metrics`.\n",
    "\n",
    "Metrics provided are:\n",
    "* `Accuracy` or `accuracy_op`\n",
    "* `Top_k` or `top_k_op`\n",
    "* `R2` or `r2_op`\n",
    "* `WeightedR2` or `weighted_r2_op`\n",
    "* `binary_accuracy_op`\n",
    "* *You can create custom metrics by extending the `tflearn.metrics.Metric` base class.*\n",
    "\n",
    "### TFLearn Loss Functions:\n",
    "\n",
    "Located in: `tflearn.objectives`.\n",
    "\n",
    "Objectives / loss functions provided are:\n",
    "* `softmax_categorical_crossentropy`\n",
    "* `categorical_crossentropy`\n",
    "* `binary_crossentropy`\n",
    "* `weighted_crossentropy`\n",
    "* `mean_square`\n",
    "* `hinge_loss`\n",
    "* `roc_auc_score`\n",
    "* `weak_cross_entropy_2d`\n",
    "\n",
    "### TFLearn Activations:\n",
    "\n",
    "Located in: `tflearn.activations`.\n",
    "\n",
    "Activations provided are:\n",
    "* `linear`\n",
    "* `tanh`\n",
    "* `sigmoid`\n",
    "* `softmax`\n",
    "* `softplus`\n",
    "* `softsign`\n",
    "* `relu`\n",
    "* `relu6`\n",
    "* `leaky_relu`\n",
    "* `prelu`\n",
    "* `elu`\n",
    "* `crelu`\n",
    "* `selu`"
   ]
  },
  {
   "cell_type": "markdown",
   "id": "50439dfa-5284-4066-8fab-ee414017017d",
   "metadata": {},
   "source": [
    "### TFLearn Model\n",
    "\n",
    "* Creating:\n",
    "```python\n",
    "model = tflearn.DNN(net)\n",
    "```\n",
    "\n",
    "\n",
    "* Types:\n",
    "    * `DNN`: This class allows you to create a multilayer perceptron from the network that you have created from the layers.\n",
    "    * `SequenceGenerator`: This class allows you to create a deep neural network that can generate sequences.\n",
    "\n",
    "\n",
    "* Training: `model.fit()`\n",
    "\n",
    "* Evaluating: `model.evaluate()`"
   ]
  },
  {
   "cell_type": "code",
   "execution_count": 10,
   "id": "5ff32319-6a85-4ba2-9175-ca755636a8d6",
   "metadata": {},
   "outputs": [
    {
     "name": "stdout",
     "output_type": "stream",
     "text": [
      "WARNING:tensorflow:From /mnt/space/miniconda3/envs/py37_tf1/lib/python3.7/site-packages/tflearn/helpers/summarizer.py:9: The name tf.summary.merge is deprecated. Please use tf.compat.v1.summary.merge instead.\n",
      "\n",
      "WARNING:tensorflow:From /mnt/space/miniconda3/envs/py37_tf1/lib/python3.7/site-packages/tflearn/helpers/trainer.py:25: The name tf.summary.FileWriter is deprecated. Please use tf.compat.v1.summary.FileWriter instead.\n",
      "\n",
      "WARNING:tensorflow:From /mnt/space/miniconda3/envs/py37_tf1/lib/python3.7/site-packages/tflearn/collections.py:13: The name tf.GraphKeys is deprecated. Please use tf.compat.v1.GraphKeys instead.\n",
      "\n",
      "WARNING:tensorflow:From /mnt/space/miniconda3/envs/py37_tf1/lib/python3.7/site-packages/tflearn/config.py:123: The name tf.get_collection is deprecated. Please use tf.compat.v1.get_collection instead.\n",
      "\n",
      "WARNING:tensorflow:From /mnt/space/miniconda3/envs/py37_tf1/lib/python3.7/site-packages/tflearn/config.py:129: The name tf.add_to_collection is deprecated. Please use tf.compat.v1.add_to_collection instead.\n",
      "\n",
      "WARNING:tensorflow:From /mnt/space/miniconda3/envs/py37_tf1/lib/python3.7/site-packages/tflearn/config.py:131: The name tf.assign is deprecated. Please use tf.compat.v1.assign instead.\n",
      "\n"
     ]
    }
   ],
   "source": [
    "import os\n",
    "\n",
    "import tensorflow as tf\n",
    "\n",
    "import tflearn\n",
    "import tflearn.datasets.mnist as mnist  # <-- NOTE: Here, using tflearn's version of readin in MNIST."
   ]
  },
  {
   "cell_type": "code",
   "execution_count": 11,
   "id": "2c736815-1c53-4cc2-bac0-64c86473fb80",
   "metadata": {},
   "outputs": [],
   "source": [
    "tf.reset_default_graph()"
   ]
  },
  {
   "cell_type": "code",
   "execution_count": 12,
   "id": "999b1f60-1b19-4083-880f-4d972142889a",
   "metadata": {},
   "outputs": [],
   "source": [
    "batch_size = 100\n",
    "n_classes = 10\n",
    "n_epochs = 10"
   ]
  },
  {
   "cell_type": "code",
   "execution_count": 13,
   "id": "400a23a7-efc8-4662-a494-05836c741a53",
   "metadata": {},
   "outputs": [
    {
     "name": "stdout",
     "output_type": "stream",
     "text": [
      "Extracting ./mnist/train-images-idx3-ubyte.gz\n",
      "Extracting ./mnist/train-labels-idx1-ubyte.gz\n",
      "Extracting ./mnist/t10k-images-idx3-ubyte.gz\n",
      "Extracting ./mnist/t10k-labels-idx1-ubyte.gz\n"
     ]
    }
   ],
   "source": [
    "X_train, Y_train, X_test, Y_test = mnist.load_data(\n",
    "    data_dir=os.path.join('.', 'mnist'), \n",
    "    one_hot=True\n",
    ")\n",
    "# ^ TFLearn's version of loading MNIST."
   ]
  },
  {
   "cell_type": "code",
   "execution_count": 14,
   "id": "66877212-a70c-443b-8bda-0c26565df495",
   "metadata": {},
   "outputs": [],
   "source": [
    "# Build deep neural network"
   ]
  },
  {
   "cell_type": "code",
   "execution_count": 15,
   "id": "6abff089-a785-4180-a768-2054083790b4",
   "metadata": {},
   "outputs": [
    {
     "name": "stdout",
     "output_type": "stream",
     "text": [
      "WARNING:tensorflow:From /mnt/space/miniconda3/envs/py37_tf1/lib/python3.7/site-packages/tflearn/layers/core.py:81: The name tf.placeholder is deprecated. Please use tf.compat.v1.placeholder instead.\n",
      "\n"
     ]
    }
   ],
   "source": [
    "input_layer = tflearn.input_data(shape=[None, 784])"
   ]
  },
  {
   "cell_type": "code",
   "execution_count": 16,
   "id": "3f28ffdc-ebf6-4cdf-a02b-43e7ab67877c",
   "metadata": {},
   "outputs": [
    {
     "name": "stdout",
     "output_type": "stream",
     "text": [
      "WARNING:tensorflow:From /mnt/space/miniconda3/envs/py37_tf1/lib/python3.7/site-packages/tflearn/layers/core.py:145: The name tf.variable_scope is deprecated. Please use tf.compat.v1.variable_scope instead.\n",
      "\n",
      "WARNING:tensorflow:From /mnt/space/miniconda3/envs/py37_tf1/lib/python3.7/site-packages/tflearn/initializations.py:174: calling TruncatedNormal.__init__ (from tensorflow.python.ops.init_ops) with dtype is deprecated and will be removed in a future version.\n",
      "Instructions for updating:\n",
      "Call initializer instance with the dtype argument instead of passing it to the constructor\n"
     ]
    }
   ],
   "source": [
    "layer1 = tflearn.fully_connected(\n",
    "    input_layer,\n",
    "    10,\n",
    "    activation='relu'\n",
    ")\n",
    "layer2 = tflearn.fully_connected(\n",
    "    layer1,\n",
    "    10,\n",
    "    activation='relu'\n",
    ")\n",
    "output = tflearn.fully_connected(\n",
    "    layer2,\n",
    "    n_classes,\n",
    "    activation='softmax'\n",
    ")"
   ]
  },
  {
   "cell_type": "code",
   "execution_count": 17,
   "id": "f18344f8-db29-47a8-989a-c744530a2e8a",
   "metadata": {},
   "outputs": [
    {
     "name": "stdout",
     "output_type": "stream",
     "text": [
      "WARNING:tensorflow:From /mnt/space/miniconda3/envs/py37_tf1/lib/python3.7/site-packages/tflearn/optimizers.py:238: The name tf.train.AdamOptimizer is deprecated. Please use tf.compat.v1.train.AdamOptimizer instead.\n",
      "\n",
      "WARNING:tensorflow:From /mnt/space/miniconda3/envs/py37_tf1/lib/python3.7/site-packages/tflearn/objectives.py:66: calling reduce_sum_v1 (from tensorflow.python.ops.math_ops) with keep_dims is deprecated and will be removed in a future version.\n",
      "Instructions for updating:\n",
      "keep_dims is deprecated, use keepdims instead\n",
      "WARNING:tensorflow:From /mnt/space/miniconda3/envs/py37_tf1/lib/python3.7/site-packages/tflearn/objectives.py:70: The name tf.log is deprecated. Please use tf.math.log instead.\n",
      "\n",
      "WARNING:tensorflow:From /mnt/space/miniconda3/envs/py37_tf1/lib/python3.7/site-packages/tflearn/layers/estimator.py:189: The name tf.trainable_variables is deprecated. Please use tf.compat.v1.trainable_variables instead.\n",
      "\n",
      "WARNING:tensorflow:From /mnt/space/miniconda3/envs/py37_tf1/lib/python3.7/site-packages/tflearn/helpers/trainer.py:571: The name tf.get_default_graph is deprecated. Please use tf.compat.v1.get_default_graph instead.\n",
      "\n"
     ]
    }
   ],
   "source": [
    "net = tflearn.regression(\n",
    "    output,\n",
    "    optimizer='adam',\n",
    "    metric=tflearn.metrics.Accuracy(),\n",
    "    loss='categorical_crossentropy'\n",
    ")\n",
    "# ^ \n",
    "# The regression layer is used in TFLearn to apply a regression (linear or logistic) to the provided input."
   ]
  },
  {
   "cell_type": "code",
   "execution_count": 18,
   "id": "cbd83d53-834c-4ddf-8f43-f85e897c2d22",
   "metadata": {},
   "outputs": [
    {
     "name": "stdout",
     "output_type": "stream",
     "text": [
      "WARNING:tensorflow:From /mnt/space/miniconda3/envs/py37_tf1/lib/python3.7/site-packages/tflearn/helpers/trainer.py:115: The name tf.Session is deprecated. Please use tf.compat.v1.Session instead.\n",
      "\n",
      "WARNING:tensorflow:From /mnt/space/miniconda3/envs/py37_tf1/lib/python3.7/site-packages/tflearn/summaries.py:46: The name tf.summary.scalar is deprecated. Please use tf.compat.v1.summary.scalar instead.\n",
      "\n",
      "WARNING:tensorflow:From /mnt/space/miniconda3/envs/py37_tf1/lib/python3.7/site-packages/tensorflow_core/python/ops/math_grad.py:1424: where (from tensorflow.python.ops.array_ops) is deprecated and will be removed in a future version.\n",
      "Instructions for updating:\n",
      "Use tf.where in 2.0, which has the same broadcast rule as np.where\n",
      "WARNING:tensorflow:From /mnt/space/miniconda3/envs/py37_tf1/lib/python3.7/site-packages/tflearn/helpers/trainer.py:134: The name tf.train.Saver is deprecated. Please use tf.compat.v1.train.Saver instead.\n",
      "\n",
      "WARNING:tensorflow:From /mnt/space/miniconda3/envs/py37_tf1/lib/python3.7/site-packages/tflearn/helpers/trainer.py:164: The name tf.global_variables_initializer is deprecated. Please use tf.compat.v1.global_variables_initializer instead.\n",
      "\n",
      "WARNING:tensorflow:From /mnt/space/miniconda3/envs/py37_tf1/lib/python3.7/site-packages/tflearn/helpers/trainer.py:165: The name tf.local_variables_initializer is deprecated. Please use tf.compat.v1.local_variables_initializer instead.\n",
      "\n",
      "WARNING:tensorflow:From /mnt/space/miniconda3/envs/py37_tf1/lib/python3.7/site-packages/tflearn/helpers/trainer.py:166: The name tf.variables_initializer is deprecated. Please use tf.compat.v1.variables_initializer instead.\n",
      "\n",
      "WARNING:tensorflow:From /mnt/space/miniconda3/envs/py37_tf1/lib/python3.7/site-packages/tflearn/helpers/trainer.py:167: The name tf.get_collection_ref is deprecated. Please use tf.compat.v1.get_collection_ref instead.\n",
      "\n"
     ]
    }
   ],
   "source": [
    "model = tflearn.DNN(net)"
   ]
  },
  {
   "cell_type": "code",
   "execution_count": 19,
   "id": "c3b9dfe1-1480-4653-840c-81ae5cef2eff",
   "metadata": {},
   "outputs": [
    {
     "name": "stdout",
     "output_type": "stream",
     "text": [
      "Training Step: 5499  | total loss: \u001b[1m\u001b[32m0.24467\u001b[0m\u001b[0m | time: 1.863s\n",
      "| Adam | epoch: 010 | loss: 0.24467 - acc: 0.9291 -- iter: 54900/55000\n",
      "Training Step: 5500  | total loss: \u001b[1m\u001b[32m0.25186\u001b[0m\u001b[0m | time: 1.866s\n",
      "| Adam | epoch: 010 | loss: 0.25186 - acc: 0.9262 -- iter: 55000/55000\n",
      "--\n"
     ]
    }
   ],
   "source": [
    "# Train.\n",
    "model.fit(\n",
    "    X_train,\n",
    "    Y_train,\n",
    "    n_epoch=n_epochs,\n",
    "    batch_size=batch_size,\n",
    "    show_metric=True,\n",
    "    run_id='dense_model'\n",
    ")"
   ]
  },
  {
   "cell_type": "code",
   "execution_count": 20,
   "id": "dd23068d-8a65-4289-b96a-79bf702922c9",
   "metadata": {},
   "outputs": [
    {
     "name": "stdout",
     "output_type": "stream",
     "text": [
      "Test accuracy: 0.9188\n"
     ]
    }
   ],
   "source": [
    "score = model.evaluate(X_test, Y_test)\n",
    "print('Test accuracy:', score[0])"
   ]
  }
 ],
 "metadata": {
  "kernelspec": {
   "display_name": "Python 3",
   "language": "python",
   "name": "python3"
  },
  "language_info": {
   "codemirror_mode": {
    "name": "ipython",
    "version": 3
   },
   "file_extension": ".py",
   "mimetype": "text/x-python",
   "name": "python",
   "nbconvert_exporter": "python",
   "pygments_lexer": "ipython3",
   "version": "3.7.10"
  }
 },
 "nbformat": 4,
 "nbformat_minor": 5
}
