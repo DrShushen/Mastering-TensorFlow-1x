{
 "cells": [
  {
   "cell_type": "markdown",
   "id": "848b8c1e-f388-4631-a390-de8e397d9018",
   "metadata": {},
   "source": [
    "# TF Slim\n",
    "\n",
    "> TF Slim is a lightweight library built on top of TensorFlow core for defining and training models. TF Slim can be used in conjunction with other TensorFlow low level and high-level libraries such as TF Learn. The TF Slim comes as part of the TensorFlow installation in the package: `tf.contrib.slim`.\n",
    "\n",
    "**Note:** We shall use TF Slim for learning how to use pre-trained models such as VGG16 and Inception V3 in later chapters.\n",
    "\n",
    "<br/>\n",
    "\n",
    "---\n",
    "#### ⚠️ 📚 Documentation location is on GitHub here [tree/v1.15.0/tensorflow/contrib/slim](https://github.com/tensorflow/tensorflow/tree/v1.15.0/tensorflow/contrib/slim)\n",
    "---\n",
    "\n",
    "<br/>\n",
    "\n",
    "### *From the docs:* What are the various components of TF-Slim?\n",
    "\n",
    "TF-Slim is composed of several parts which were design to exist independently. These include the following main pieces (explained in detail below).\n",
    "\n",
    "* [arg_scope](https://www.tensorflow.org/code/tensorflow/contrib/framework/python/ops/arg_scope.py): provides a new scope named `arg_scope` that allows a user to define default arguments for specific operations within that scope.\n",
    "* [data](https://www.tensorflow.org/code/tensorflow/contrib/slim/python/slim/data/): contains TF-slim's [dataset](https://www.tensorflow.org/code/tensorflow/contrib/slim/python/slim/data/dataset.py) definition, [data providers](https://www.tensorflow.org/code/tensorflow/contrib/slim/python/slim/data/data_provider.py), [parallel_reader](https://www.tensorflow.org/code/tensorflow/contrib/slim/python/slim/data/parallel_reader.py), and [decoding](https://www.tensorflow.org/code/tensorflow/contrib/slim/python/slim/data/data_decoder.py) utilities.\n",
    "* [evaluation](https://www.tensorflow.org/code/tensorflow/contrib/slim/python/slim/evaluation.py): contains routines for evaluating models.\n",
    "* [layers](https://www.tensorflow.org/code/tensorflow/contrib/layers/python/layers/layers.py): contains high level layers for building models using tensorflow.\n",
    "* [learning](https://www.tensorflow.org/code/tensorflow/contrib/slim/python/slim/learning.py): contains routines for training models.\n",
    "* [losses](https://www.tensorflow.org/code/tensorflow/contrib/losses/python/losses/loss_ops.py): contains commonly used loss functions.\n",
    "* [metrics](https://www.tensorflow.org/code/tensorflow/contrib/metrics/python/ops/metric_ops.py): contains popular evaluation metrics.\n",
    "* [nets](https://www.tensorflow.org/code/tensorflow/contrib/slim/python/slim/nets/): contains popular network definitions such as [VGG](https://www.tensorflow.org/code/tensorflow/contrib/slim/python/slim/nets/vgg.py) and [AlexNet](https://www.tensorflow.org/code/tensorflow/contrib/slim/python/slim/nets/alexnet.py)\n",
    "models.\n",
    "* [queues](https://www.tensorflow.org/code/tensorflow/contrib/slim/python/slim/queues.py): provides a context manager for easily and safely starting and closing\n",
    "`QueueRunner`s.\n",
    "* [regularizers](https://www.tensorflow.org/code/tensorflow/contrib/layers/python/layers/regularizers.py): contains weight regularizers.\n",
    "* [variables](https://www.tensorflow.org/code/tensorflow/contrib/framework/python/ops/variables.py): provides convenience wrappers for variable creation and manipulation.\n",
    "\n",
    "### TF Slim Workflow:\n",
    "1. Create the model using slim layers.\n",
    "2. Provide the input to the layers to instantiate the model.\n",
    "3. Use the logits and labels to define the loss.\n",
    "4. Get the total loss using convenience function `get_total_loss()`.\n",
    "5. Create an optimizer.\n",
    "6. Create a training function using convenience function `slim.learning.create_train_op()`, `total_loss` and `optimizer`.\n",
    "7. Run the training using the convenience function `slim.learning.train()` and training function defined in the previous step."
   ]
  },
  {
   "cell_type": "code",
   "execution_count": 2,
   "id": "a09e1f87-17c2-4bf4-8732-448ae22c41e2",
   "metadata": {},
   "outputs": [
    {
     "name": "stdout",
     "output_type": "stream",
     "text": [
      "Yes TF Slim is working if no exceptions here.\n"
     ]
    }
   ],
   "source": [
    "# Check if `TF Slim` is working:\n",
    "import tensorflow.contrib.slim as slim\n",
    "eval_ = slim.evaluation.evaluate_once\n",
    "print(\"Yes, TF Slim is working if no exceptions here.\")"
   ]
  },
  {
   "cell_type": "code",
   "execution_count": 3,
   "id": "2b697819-4f90-47c8-97bc-35f39acc6406",
   "metadata": {},
   "outputs": [],
   "source": [
    "from tensorflow.examples.tutorials.mnist import input_data\n",
    "from tensorflow.contrib import slim  # <-- This.\n",
    "import tensorflow as tf\n",
    "import os"
   ]
  },
  {
   "cell_type": "code",
   "execution_count": 4,
   "id": "ea0c1070-640d-45f2-acb8-275dbe74aa61",
   "metadata": {},
   "outputs": [],
   "source": [
    "tf.reset_default_graph()"
   ]
  },
  {
   "cell_type": "code",
   "execution_count": 5,
   "id": "cda5e4c2-7085-49b5-9e59-fed8f95928a1",
   "metadata": {},
   "outputs": [],
   "source": [
    "n_classes = 10  \n",
    "n_steps = 1000"
   ]
  },
  {
   "cell_type": "code",
   "execution_count": 6,
   "id": "b027d041-7adf-4f72-b681-c72a308fb57f",
   "metadata": {},
   "outputs": [
    {
     "name": "stdout",
     "output_type": "stream",
     "text": [
      "WARNING:tensorflow:From <ipython-input-6-efe7a16d5016>:5: read_data_sets (from tensorflow.contrib.learn.python.learn.datasets.mnist) is deprecated and will be removed in a future version.\n",
      "Instructions for updating:\n",
      "Please use alternatives such as official/mnist/dataset.py from tensorflow/models.\n",
      "WARNING:tensorflow:From /mnt/space/miniconda3/envs/py37_tf1/lib/python3.7/site-packages/tensorflow_core/contrib/learn/python/learn/datasets/mnist.py:260: maybe_download (from tensorflow.contrib.learn.python.learn.datasets.base) is deprecated and will be removed in a future version.\n",
      "Instructions for updating:\n",
      "Please write your own downloading logic.\n",
      "WARNING:tensorflow:From /mnt/space/miniconda3/envs/py37_tf1/lib/python3.7/site-packages/tensorflow_core/contrib/learn/python/learn/datasets/mnist.py:262: extract_images (from tensorflow.contrib.learn.python.learn.datasets.mnist) is deprecated and will be removed in a future version.\n",
      "Instructions for updating:\n",
      "Please use tf.data to implement this functionality.\n",
      "Extracting ./mnist/train-images-idx3-ubyte.gz\n",
      "WARNING:tensorflow:From /mnt/space/miniconda3/envs/py37_tf1/lib/python3.7/site-packages/tensorflow_core/contrib/learn/python/learn/datasets/mnist.py:267: extract_labels (from tensorflow.contrib.learn.python.learn.datasets.mnist) is deprecated and will be removed in a future version.\n",
      "Instructions for updating:\n",
      "Please use tf.data to implement this functionality.\n",
      "Extracting ./mnist/train-labels-idx1-ubyte.gz\n",
      "WARNING:tensorflow:From /mnt/space/miniconda3/envs/py37_tf1/lib/python3.7/site-packages/tensorflow_core/contrib/learn/python/learn/datasets/mnist.py:110: dense_to_one_hot (from tensorflow.contrib.learn.python.learn.datasets.mnist) is deprecated and will be removed in a future version.\n",
      "Instructions for updating:\n",
      "Please use tf.one_hot on tensors.\n",
      "Extracting ./mnist/t10k-images-idx3-ubyte.gz\n",
      "Extracting ./mnist/t10k-labels-idx1-ubyte.gz\n",
      "WARNING:tensorflow:From /mnt/space/miniconda3/envs/py37_tf1/lib/python3.7/site-packages/tensorflow_core/contrib/learn/python/learn/datasets/mnist.py:290: DataSet.__init__ (from tensorflow.contrib.learn.python.learn.datasets.mnist) is deprecated and will be removed in a future version.\n",
      "Instructions for updating:\n",
      "Please use alternatives such as official/mnist/dataset.py from tensorflow/models.\n"
     ]
    }
   ],
   "source": [
    "# Let us get the data.\n",
    "# (Already downloaded in previous example)\n",
    "mnist = input_data.read_data_sets(\n",
    "    os.path.join('.', 'mnist'), \n",
    "    one_hot=True\n",
    ")"
   ]
  },
  {
   "cell_type": "code",
   "execution_count": 7,
   "id": "ea3391d1-8afb-4e34-9598-afd7475a5b52",
   "metadata": {},
   "outputs": [],
   "source": [
    "# Note the **conversion to tensor** here!\n",
    "X_train = mnist.train.images\n",
    "X_train = tf.convert_to_tensor(X_train)\n",
    "Y_train = mnist.train.labels\n",
    "Y_train = tf.convert_to_tensor(Y_train)"
   ]
  },
  {
   "cell_type": "markdown",
   "id": "89114a72-70ee-4fc1-aedb-d326b77a5ad4",
   "metadata": {},
   "source": [
    "### Note on `layers`:\n",
    "⚠️ 📚 Slim imports layers from `tensorflow.contrib.layers.python.layers`, docs for which can be found [here](https://github.com/tensorflow/tensorflow/tree/v1.15.0/tensorflow/contrib/layers)."
   ]
  },
  {
   "cell_type": "code",
   "execution_count": 8,
   "id": "0416dd38-841b-4bec-8a04-08e157e9a475",
   "metadata": {},
   "outputs": [],
   "source": [
    "# Define a simple MLP with slim-provided layers, including dropout!\n",
    "def mlp(x):\n",
    "    net = slim.fully_connected(x, 32, scope='fc1')\n",
    "    net = slim.dropout(net, 0.5, scope='dropout1')\n",
    "    net = slim.fully_connected(net, 32, scope='fc2')\n",
    "    net = slim.dropout(net, 0.5, scope='dropout2')\n",
    "    net = slim.fully_connected(net, n_classes, activation_fn=None, scope='fc3')\n",
    "    return net"
   ]
  },
  {
   "cell_type": "code",
   "execution_count": 9,
   "id": "9424c22e-bf8e-425a-bbf7-865d1f13d7d2",
   "metadata": {},
   "outputs": [
    {
     "name": "stdout",
     "output_type": "stream",
     "text": [
      "WARNING:tensorflow:From /mnt/space/miniconda3/envs/py37_tf1/lib/python3.7/site-packages/tensorflow_core/contrib/layers/python/layers/layers.py:1866: Layer.apply (from tensorflow.python.keras.engine.base_layer) is deprecated and will be removed in a future version.\n",
      "Instructions for updating:\n",
      "Please use `layer.__call__` method instead.\n"
     ]
    }
   ],
   "source": [
    "# Define the model\n",
    "logits = mlp(X_train)"
   ]
  },
  {
   "cell_type": "code",
   "execution_count": 10,
   "id": "d7614eab-00a5-4f33-a197-36c351375769",
   "metadata": {},
   "outputs": [
    {
     "name": "stdout",
     "output_type": "stream",
     "text": [
      "WARNING:tensorflow:From /mnt/space/miniconda3/envs/py37_tf1/lib/python3.7/site-packages/tensorflow_core/python/ops/losses/losses_impl.py:121: where (from tensorflow.python.ops.array_ops) is deprecated and will be removed in a future version.\n",
      "Instructions for updating:\n",
      "Use tf.where in 2.0, which has the same broadcast rule as np.where\n"
     ]
    }
   ],
   "source": [
    "# Define the loss functions and get the total loss\n",
    "loss = tf.losses.softmax_cross_entropy(logits=logits, onehot_labels=Y_train)\n",
    "total_loss = tf.losses.get_total_loss()"
   ]
  },
  {
   "cell_type": "code",
   "execution_count": 11,
   "id": "f9322399-01b7-4485-bd5d-c67aa5d62932",
   "metadata": {},
   "outputs": [],
   "source": [
    "# Optimiser:\n",
    "optimizer = tf.train.GradientDescentOptimizer(learning_rate=0.01)"
   ]
  },
  {
   "cell_type": "code",
   "execution_count": 12,
   "id": "dbc7d239-4c6f-42a5-b827-638fcec52ae4",
   "metadata": {},
   "outputs": [],
   "source": [
    "# Train op - created via Slim.\n",
    "train_op = slim.learning.create_train_op(total_loss, optimizer)"
   ]
  },
  {
   "cell_type": "code",
   "execution_count": 13,
   "id": "fa96a2f3-2897-4eab-9586-4bbf2c01b90e",
   "metadata": {},
   "outputs": [
    {
     "name": "stdout",
     "output_type": "stream",
     "text": [
      "WARNING:tensorflow:From /mnt/space/miniconda3/envs/py37_tf1/lib/python3.7/site-packages/tensorflow_core/contrib/slim/python/slim/learning.py:742: Supervisor.__init__ (from tensorflow.python.training.supervisor) is deprecated and will be removed in a future version.\n",
      "Instructions for updating:\n",
      "Please switch to tf.train.MonitoredTrainingSession\n",
      "INFO:tensorflow:Running local_init_op.\n",
      "INFO:tensorflow:Done running local_init_op.\n",
      "INFO:tensorflow:Starting Session.\n",
      "INFO:tensorflow:Saving checkpoint to path ./slim_logs/model.ckpt\n",
      "INFO:tensorflow:Starting Queues.\n",
      "INFO:tensorflow:global_step/sec: 0\n",
      "INFO:tensorflow:global step 99: loss = 2.2131 (0.005 sec/step)\n",
      "INFO:tensorflow:global step 199: loss = 2.1237 (0.005 sec/step)\n",
      "INFO:tensorflow:global step 299: loss = 2.0299 (0.004 sec/step)\n",
      "INFO:tensorflow:global step 399: loss = 1.9482 (0.005 sec/step)\n",
      "INFO:tensorflow:global step 499: loss = 1.8621 (0.004 sec/step)\n",
      "INFO:tensorflow:global step 599: loss = 1.7977 (0.005 sec/step)\n",
      "INFO:tensorflow:global step 699: loss = 1.7177 (0.004 sec/step)\n",
      "INFO:tensorflow:global step 799: loss = 1.6590 (0.005 sec/step)\n",
      "INFO:tensorflow:global step 899: loss = 1.6019 (0.005 sec/step)\n",
      "INFO:tensorflow:global step 999: loss = 1.5492 (0.004 sec/step)\n",
      "INFO:tensorflow:Stopping Training.\n",
      "INFO:tensorflow:Finished training! Saving model to disk.\n",
      "final loss=1.54917311668396\n"
     ]
    },
    {
     "name": "stderr",
     "output_type": "stream",
     "text": [
      "/mnt/space/miniconda3/envs/py37_tf1/lib/python3.7/site-packages/tensorflow_core/python/summary/writer/writer.py:386: UserWarning: Attempting to use a closed FileWriter. The operation will be a noop unless the FileWriter is explicitly reopened.\n",
      "  warnings.warn(\"Attempting to use a closed FileWriter. \"\n"
     ]
    }
   ],
   "source": [
    "# Run the training.\n",
    "final_loss = slim.learning.train(\n",
    "    train_op,\n",
    "    logdir='./slim_logs',\n",
    "    number_of_steps=n_steps,\n",
    "    log_every_n_steps=100\n",
    ")\n",
    "\n",
    "print('final loss={}'.format(final_loss))"
   ]
  }
 ],
 "metadata": {
  "kernelspec": {
   "display_name": "Python 3",
   "language": "python",
   "name": "python3"
  },
  "language_info": {
   "codemirror_mode": {
    "name": "ipython",
    "version": 3
   },
   "file_extension": ".py",
   "mimetype": "text/x-python",
   "name": "python",
   "nbconvert_exporter": "python",
   "pygments_lexer": "ipython3",
   "version": "3.7.10"
  }
 },
 "nbformat": 4,
 "nbformat_minor": 5
}
