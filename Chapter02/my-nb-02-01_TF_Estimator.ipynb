{
 "cells": [
  {
   "cell_type": "markdown",
   "id": "f4997f3e-3647-4775-ba38-149838901f97",
   "metadata": {},
   "source": [
    "# TF Estimator\n",
    "\n",
    "TF Estimator interface design is inspired from the popular machine learning library SciKit Learn, allowing to create the estimator object from different kinds of available models, and then providing **four main functions** on any kind of **estimator**:\n",
    "* `estimator.fit()`\n",
    "* `estimator.evaluate()`\n",
    "* `estimator.predict()`\n",
    "* `estimator.export()`\n",
    "\n",
    "The estimator object represents the model,but the model itself is created from the **model definition function** provided to the estimator.\n",
    "\n",
    "![TF_Estimator](./TF_Estimator.png)\n",
    "\n",
    "Using the Estimator API instead of building everything in core TensorFlow has the benefit of not worrying about graphs, sessions, initializing variables or other low-level details.\n",
    "\n",
    "At the time of writing this book, TensorFlow provides following pre-built estimators:\n",
    "* `tf.contrib.learn.KMeansClustering`\n",
    "* `tf.contrib.learn.DNNClassifier`\n",
    "* `tf.contrib.learn.DNNRegressor`\n",
    "* `tf.contrib.learn.DNNLinearCombinedRegressor`\n",
    "* `tf.contrib.learn.DNNLinearCombinedClassifier`\n",
    "* `tf.contrib.learn.LinearClassifier`\n",
    "* `tf.contrib.learn.LinearRegressor`\n",
    "* `tf.contrib.learn.LogisticRegressor`\n",
    "\n",
    "---\n",
    "#### The simple workflow in TF Estimator API is as follows:\n",
    "\n",
    "1. Find the pre-built Estimator that is relevant to the problem you are trying to solve.\n",
    "2. Write the function to import the dataset.\n",
    "3. Define the columns in data that contain features.\n",
    "4. Create the instance of the pre-built estimator that you selected in step 1.\n",
    "5. Train the estimator.\n",
    "6. Use the trained estimator to do evaluation or prediction.\n",
    "---\n",
    "\n",
    "**Note:** Keras library discussed in the next chapter, provides a convenience function to convert Keras models to Estimators: `keras.estimator.model_to_estimator()`."
   ]
  },
  {
   "cell_type": "code",
   "execution_count": 1,
   "id": "633b189e-8d24-423c-a635-339d1edbfe5d",
   "metadata": {},
   "outputs": [],
   "source": [
    "import os\n",
    "import tensorflow as tf\n",
    "import numpy as np\n",
    "from tensorflow.examples.tutorials.mnist import input_data"
   ]
  },
  {
   "cell_type": "code",
   "execution_count": 2,
   "id": "d5bfdb9e-a42f-43ba-8d2a-308ce7e3a76d",
   "metadata": {},
   "outputs": [],
   "source": [
    "tf.reset_default_graph()"
   ]
  },
  {
   "cell_type": "code",
   "execution_count": 3,
   "id": "1938ddaf-6689-4028-b0e0-7fc2020c4f33",
   "metadata": {},
   "outputs": [
    {
     "name": "stdout",
     "output_type": "stream",
     "text": [
      "WARNING:tensorflow:From <ipython-input-3-c74c86bc9fac>:3: read_data_sets (from tensorflow.contrib.learn.python.learn.datasets.mnist) is deprecated and will be removed in a future version.\n",
      "Instructions for updating:\n",
      "Please use alternatives such as official/mnist/dataset.py from tensorflow/models.\n",
      "WARNING:tensorflow:From /mnt/space/miniconda3/envs/py37_tf1/lib/python3.7/site-packages/tensorflow_core/contrib/learn/python/learn/datasets/mnist.py:260: maybe_download (from tensorflow.contrib.learn.python.learn.datasets.base) is deprecated and will be removed in a future version.\n",
      "Instructions for updating:\n",
      "Please write your own downloading logic.\n",
      "WARNING:tensorflow:From /mnt/space/miniconda3/envs/py37_tf1/lib/python3.7/site-packages/tensorflow_core/contrib/learn/python/learn/datasets/mnist.py:262: extract_images (from tensorflow.contrib.learn.python.learn.datasets.mnist) is deprecated and will be removed in a future version.\n",
      "Instructions for updating:\n",
      "Please use tf.data to implement this functionality.\n",
      "Extracting ./mnist/train-images-idx3-ubyte.gz\n",
      "WARNING:tensorflow:From /mnt/space/miniconda3/envs/py37_tf1/lib/python3.7/site-packages/tensorflow_core/contrib/learn/python/learn/datasets/mnist.py:267: extract_labels (from tensorflow.contrib.learn.python.learn.datasets.mnist) is deprecated and will be removed in a future version.\n",
      "Instructions for updating:\n",
      "Please use tf.data to implement this functionality.\n",
      "Extracting ./mnist/train-labels-idx1-ubyte.gz\n",
      "Extracting ./mnist/t10k-images-idx3-ubyte.gz\n",
      "Extracting ./mnist/t10k-labels-idx1-ubyte.gz\n",
      "WARNING:tensorflow:From /mnt/space/miniconda3/envs/py37_tf1/lib/python3.7/site-packages/tensorflow_core/contrib/learn/python/learn/datasets/mnist.py:290: DataSet.__init__ (from tensorflow.contrib.learn.python.learn.datasets.mnist) is deprecated and will be removed in a future version.\n",
      "Instructions for updating:\n",
      "Please use alternatives such as official/mnist/dataset.py from tensorflow/models.\n"
     ]
    }
   ],
   "source": [
    "mnist = input_data.read_data_sets(\n",
    "    os.path.join('.', 'mnist'),\n",
    "    one_hot=False\n",
    ")"
   ]
  },
  {
   "cell_type": "markdown",
   "id": "72afd0bb-f24a-4f5e-ac16-f60985a3b774",
   "metadata": {},
   "source": [
    "### About this `mnist` tutorial thing\n",
    "See here in the source code: [tensorflow-1.15.5/tensorflow/examples/tutorials/mnist/\\_\\_init\\_\\_.py](../tf1_source_code/tensorflow-1.15.5/tensorflow/examples/tutorials/mnist/__init__.py)"
   ]
  },
  {
   "cell_type": "code",
   "execution_count": 4,
   "id": "e8f04c4c-a1a9-45c3-8fd0-a291d861e9b1",
   "metadata": {},
   "outputs": [
    {
     "name": "stdout",
     "output_type": "stream",
     "text": [
      "<class 'tensorflow.contrib.learn.python.learn.datasets.base.Datasets'>\n",
      "dir of `mnist`:\n",
      "['_asdict', '_field_defaults', '_fields', '_fields_defaults', '_make', '_replace', 'count', 'index', 'test', 'train', 'validation']\n",
      "dir of `mnist.train`:\n",
      "['_epochs_completed', '_images', '_index_in_epoch', '_labels', '_num_examples', 'epochs_completed', 'images', 'labels', 'next_batch', 'num_examples']\n"
     ]
    }
   ],
   "source": [
    "print(type(mnist))\n",
    "dir_ = [x for x in dir(mnist) if '__' not in x]\n",
    "print(f\"dir of `mnist`:\")\n",
    "print(dir_)\n",
    "dir_train_ = [x for x in dir(mnist.train) if '__' not in x]\n",
    "print(f\"dir of `mnist.train`:\")\n",
    "print(dir_train_)"
   ]
  },
  {
   "cell_type": "code",
   "execution_count": 15,
   "id": "3f07cab3-8bae-4ac4-b40c-f39dc70b225a",
   "metadata": {},
   "outputs": [
    {
     "name": "stdout",
     "output_type": "stream",
     "text": [
      "mnist.train.images.shape: (55000, 784)\n",
      "mnist.train.images[0].shape: (784,)\n",
      "--------------------------------------\n",
      "mnist.train.labels.shape: (55000,)\n",
      "mnist.train.labels[0].shape: ()\n",
      "mnist.train.labels[0] 7\n"
     ]
    }
   ],
   "source": [
    "print(\"mnist.train.images.shape:\", mnist.train.images.shape)\n",
    "print(\"mnist.train.images[0].shape:\", mnist.train.images[0].shape)\n",
    "print(\"--------------------------------------\")\n",
    "print(\"mnist.train.labels.shape:\", mnist.train.labels.shape)\n",
    "print(\"mnist.train.labels[0].shape:\", mnist.train.labels[0].shape)\n",
    "print(\"mnist.train.labels[0]\", mnist.train.labels[0])"
   ]
  },
  {
   "cell_type": "code",
   "execution_count": 16,
   "id": "f88dacd4-02cf-4b29-b374-227eeb057171",
   "metadata": {},
   "outputs": [],
   "source": [
    "x_train = mnist.train.images\n",
    "y_train = mnist.train.labels\n",
    "x_test = mnist.test.images\n",
    "y_test = mnist.test.labels\n",
    "\n",
    "n_classes = 10\n",
    "batch_size = 100\n",
    "n_steps = 1000\n",
    "learning_rate = 0.01"
   ]
  },
  {
   "cell_type": "markdown",
   "id": "2fab0d37-3cad-47fc-880c-bc7e4a6e664a",
   "metadata": {},
   "source": [
    "### Details\n",
    "**📚 Read the links!**\n",
    "\n",
    "#### [Estimator](https://www.tensorflow.org/versions/r1.15/api_docs/python/tf/estimator/Estimator):\n",
    "\n",
    "See all details in tha above link.\n",
    "\n",
    "Signature:\n",
    "```python\n",
    "tf.estimator.Estimator(\n",
    "    model_fn, model_dir=None, config=None, params=None, warm_start_from=None\n",
    ")\n",
    "```\n",
    "\n",
    "#### [EstimatorSpec](https://www.tensorflow.org/versions/r1.15/api_docs/python/tf/estimator/EstimatorSpec):\n",
    "```python\n",
    "tf.estimator.EstimatorSpec(\n",
    "    mode, predictions=None, loss=None, train_op=None, eval_metric_ops=None,\n",
    "    export_outputs=None, training_chief_hooks=None, training_hooks=None,\n",
    "    scaffold=None, evaluation_hooks=None, prediction_hooks=None\n",
    ")\n",
    "```\n",
    "\n",
    "#### ModeKeys: [tf.contrib.learn.ModeKeys](https://www.tensorflow.org/versions/r1.15/api_docs/python/tf/contrib/learn/ModeKeys) (deprecated), [tf.estimator.ModeKeys](https://www.tensorflow.org/versions/r1.15/api_docs/python/tf/estimator/ModeKeys):\n",
    "The following standard keys are defined:\n",
    "```\n",
    "TRAIN: training mode.\n",
    "EVAL: evaluation mode.\n",
    "INFER: inference mode.\n",
    "```"
   ]
  },
  {
   "cell_type": "code",
   "execution_count": 17,
   "id": "ac4d2518-895b-4157-b061-79692633b954",
   "metadata": {},
   "outputs": [],
   "source": [
    "# NOTE.\n",
    "# This function returns an tf.estimator.EstimatorSpec\n",
    "# The nature of this EstimatorSpec can depend on the `mode` (PREDICT, TRAIN etc.)!\n",
    "\n",
    "def model_fn(\n",
    "    features, \n",
    "    labels, \n",
    "    mode  # `mode`, one of ModeKeys: https://www.tensorflow.org/versions/r1.15/api_docs/python/tf/contrib/learn/ModeKeys\n",
    "):\n",
    "    \"\"\"Define the model function\n",
    "    \"\"\"\n",
    "    # /!\\ See: \n",
    "    # https://www.tensorflow.org/versions/r1.15/api_docs/python/tf/estimator/EstimatorSpec\n",
    "    espec_op = tf.estimator.EstimatorSpec\n",
    "    \n",
    "    # Features is a dict as per Estimator specifications\n",
    "    x = features['images']\n",
    "    \n",
    "    # Define the network\n",
    "    layer_1 = tf.layers.dense(x, 32)\n",
    "    layer_2 = tf.layers.dense(layer_1, 32)\n",
    "    logits = tf.layers.dense(layer_2, n_classes)\n",
    "\n",
    "    # Define predicted classes\n",
    "    predicted_classes = tf.argmax(logits, axis=1)\n",
    "    if mode == tf.estimator.ModeKeys.PREDICT:\n",
    "        # If we are in PREDICT mode...\n",
    "        espec = espec_op(\n",
    "            mode,\n",
    "            predictions=predicted_classes\n",
    "        )\n",
    "    \n",
    "    else:\n",
    "        # If we are in TRAIN mode...\n",
    "        # Define loss and optimizer\n",
    "        cross_entropy_op = tf.nn.sparse_softmax_cross_entropy_with_logits\n",
    "        loss_op = tf.reduce_mean(\n",
    "            cross_entropy_op(\n",
    "                logits=logits,\n",
    "                labels=tf.cast(\n",
    "                    labels,\n",
    "                    dtype=tf.int32\n",
    "                )\n",
    "                # ^ Interestingly they're having to cast to int32 here.\n",
    "            )\n",
    "        )\n",
    "        optimizer = tf.train.GradientDescentOptimizer(\n",
    "            learning_rate=learning_rate\n",
    "        )\n",
    "        train_op = optimizer.minimize(\n",
    "            loss_op, \n",
    "            global_step=tf.train.get_global_step()  # This looks like a useful function!\n",
    "        )\n",
    "\n",
    "        # Define accuracy\n",
    "        accuracy_op = tf.metrics.accuracy(\n",
    "            labels=labels, \n",
    "            predictions=predicted_classes\n",
    "        )\n",
    "\n",
    "        espec = espec_op(\n",
    "            # Estimator mode:\n",
    "            mode=mode,\n",
    "            # Predictions:\n",
    "            predictions=predicted_classes,\n",
    "            # Loss:\n",
    "            loss=loss_op,\n",
    "            # Training op (estimator.minimize):\n",
    "            train_op=train_op,\n",
    "            # Evaluation metrics:\n",
    "            eval_metric_ops={'accuracy': accuracy_op}\n",
    "        )\n",
    "\n",
    "    return espec"
   ]
  },
  {
   "cell_type": "code",
   "execution_count": 18,
   "id": "628ddb72-fbfa-4f95-8fc1-98de3adfb2b2",
   "metadata": {},
   "outputs": [
    {
     "name": "stdout",
     "output_type": "stream",
     "text": [
      "INFO:tensorflow:Using default config.\n",
      "WARNING:tensorflow:Using temporary folder as model directory: /tmp/tmph6cqothj\n",
      "INFO:tensorflow:Using config: {'_model_dir': '/tmp/tmph6cqothj', '_tf_random_seed': None, '_save_summary_steps': 100, '_save_checkpoints_steps': None, '_save_checkpoints_secs': 600, '_session_config': allow_soft_placement: true\n",
      "graph_options {\n",
      "  rewrite_options {\n",
      "    meta_optimizer_iterations: ONE\n",
      "  }\n",
      "}\n",
      ", '_keep_checkpoint_max': 5, '_keep_checkpoint_every_n_hours': 10000, '_log_step_count_steps': 100, '_train_distribute': None, '_device_fn': None, '_protocol': None, '_eval_distribute': None, '_experimental_distribute': None, '_experimental_max_worker_delay_secs': None, '_session_creation_timeout_secs': 7200, '_service': None, '_cluster_spec': <tensorflow.python.training.server_lib.ClusterSpec object at 0x7fdc16a17890>, '_task_type': 'worker', '_task_id': 0, '_global_id_in_cluster': 0, '_master': '', '_evaluation_master': '', '_is_chief': True, '_num_ps_replicas': 0, '_num_worker_replicas': 1}\n"
     ]
    }
   ],
   "source": [
    "# Create estimator object:\n",
    "model = tf.estimator.Estimator(model_fn)  # Takes `model_fn`"
   ]
  },
  {
   "cell_type": "markdown",
   "id": "7937081b-e5bc-4c48-9cb5-ee387f08f01a",
   "metadata": {},
   "source": [
    "### Numpy input function\n",
    "See: https://www.tensorflow.org/versions/r1.15/api_docs/python/tf/estimator/inputs/numpy_input_fn\n",
    "```python\n",
    "tf.estimator.inputs.numpy_input_fn(\n",
    "    x, y=None, batch_size=128, num_epochs=1, shuffle=None, queue_capacity=1000,\n",
    "    num_threads=1\n",
    ")\n",
    "```"
   ]
  },
  {
   "cell_type": "code",
   "execution_count": 19,
   "id": "6e9f49bf-c55f-4226-b35d-60217ea29b71",
   "metadata": {},
   "outputs": [
    {
     "name": "stdout",
     "output_type": "stream",
     "text": [
      "WARNING:tensorflow:From /mnt/space/miniconda3/envs/py37_tf1/lib/python3.7/site-packages/tensorflow_core/python/training/training_util.py:236: Variable.initialized_value (from tensorflow.python.ops.variables) is deprecated and will be removed in a future version.\n",
      "Instructions for updating:\n",
      "Use Variable.read_value. Variables in 2.X are initialized automatically both in eager and graph (inside tf.defun) contexts.\n",
      "WARNING:tensorflow:From /mnt/space/miniconda3/envs/py37_tf1/lib/python3.7/site-packages/tensorflow_estimator/python/estimator/inputs/queues/feeding_queue_runner.py:62: QueueRunner.__init__ (from tensorflow.python.training.queue_runner_impl) is deprecated and will be removed in a future version.\n",
      "Instructions for updating:\n",
      "To construct input pipelines, use the `tf.data` module.\n",
      "WARNING:tensorflow:From /mnt/space/miniconda3/envs/py37_tf1/lib/python3.7/site-packages/tensorflow_estimator/python/estimator/inputs/queues/feeding_functions.py:500: add_queue_runner (from tensorflow.python.training.queue_runner_impl) is deprecated and will be removed in a future version.\n",
      "Instructions for updating:\n",
      "To construct input pipelines, use the `tf.data` module.\n",
      "INFO:tensorflow:Calling model_fn.\n",
      "WARNING:tensorflow:From <ipython-input-17-c3a5a981da36>:20: dense (from tensorflow.python.layers.core) is deprecated and will be removed in a future version.\n",
      "Instructions for updating:\n",
      "Use keras.layers.Dense instead.\n",
      "WARNING:tensorflow:From /mnt/space/miniconda3/envs/py37_tf1/lib/python3.7/site-packages/tensorflow_core/python/layers/core.py:187: Layer.apply (from tensorflow.python.keras.engine.base_layer) is deprecated and will be removed in a future version.\n",
      "Instructions for updating:\n",
      "Please use `layer.__call__` method instead.\n",
      "INFO:tensorflow:Done calling model_fn.\n",
      "INFO:tensorflow:Create CheckpointSaverHook.\n",
      "WARNING:tensorflow:From /mnt/space/miniconda3/envs/py37_tf1/lib/python3.7/site-packages/tensorflow_core/python/ops/array_ops.py:1475: where (from tensorflow.python.ops.array_ops) is deprecated and will be removed in a future version.\n",
      "Instructions for updating:\n",
      "Use tf.where in 2.0, which has the same broadcast rule as np.where\n",
      "INFO:tensorflow:Graph was finalized.\n",
      "INFO:tensorflow:Running local_init_op.\n",
      "INFO:tensorflow:Done running local_init_op.\n",
      "WARNING:tensorflow:From /mnt/space/miniconda3/envs/py37_tf1/lib/python3.7/site-packages/tensorflow_core/python/training/monitored_session.py:882: start_queue_runners (from tensorflow.python.training.queue_runner_impl) is deprecated and will be removed in a future version.\n",
      "Instructions for updating:\n",
      "To construct input pipelines, use the `tf.data` module.\n",
      "INFO:tensorflow:Saving checkpoints for 0 into /tmp/tmph6cqothj/model.ckpt.\n",
      "INFO:tensorflow:loss = 2.309273, step = 0\n",
      "INFO:tensorflow:global_step/sec: 896.115\n",
      "INFO:tensorflow:loss = 1.1969703, step = 100 (0.112 sec)\n",
      "INFO:tensorflow:global_step/sec: 1104.1\n",
      "INFO:tensorflow:loss = 0.86085486, step = 200 (0.091 sec)\n",
      "INFO:tensorflow:global_step/sec: 1070.28\n",
      "INFO:tensorflow:loss = 0.7348843, step = 300 (0.093 sec)\n",
      "INFO:tensorflow:global_step/sec: 960.092\n",
      "INFO:tensorflow:loss = 0.5476416, step = 400 (0.104 sec)\n",
      "INFO:tensorflow:global_step/sec: 1086.13\n",
      "INFO:tensorflow:loss = 0.5847893, step = 500 (0.092 sec)\n",
      "INFO:tensorflow:global_step/sec: 1050.82\n",
      "INFO:tensorflow:loss = 0.3985802, step = 600 (0.095 sec)\n",
      "INFO:tensorflow:global_step/sec: 1098.1\n",
      "INFO:tensorflow:loss = 0.44512385, step = 700 (0.091 sec)\n",
      "INFO:tensorflow:global_step/sec: 1086.72\n",
      "INFO:tensorflow:loss = 0.4465372, step = 800 (0.092 sec)\n",
      "INFO:tensorflow:global_step/sec: 1069.11\n",
      "INFO:tensorflow:loss = 0.42339456, step = 900 (0.094 sec)\n",
      "INFO:tensorflow:Saving checkpoints for 1000 into /tmp/tmph6cqothj/model.ckpt.\n",
      "INFO:tensorflow:Loss for final step: 0.43841603.\n"
     ]
    },
    {
     "data": {
      "text/plain": [
       "<tensorflow_estimator.python.estimator.estimator.Estimator at 0x7fdc16a17490>"
      ]
     },
     "execution_count": 19,
     "metadata": {},
     "output_type": "execute_result"
    }
   ],
   "source": [
    "# Train the model:\n",
    "train_input_fn = tf.estimator.inputs.numpy_input_fn(\n",
    "    x={'images': x_train},\n",
    "    y=y_train,\n",
    "    batch_size=batch_size,\n",
    "    num_epochs=None,\n",
    "    shuffle=True\n",
    ")\n",
    "\n",
    "model.train(train_input_fn, steps=n_steps)"
   ]
  },
  {
   "cell_type": "code",
   "execution_count": 20,
   "id": "86347381-b133-43b4-ac47-ed061ddcdf4b",
   "metadata": {},
   "outputs": [
    {
     "name": "stdout",
     "output_type": "stream",
     "text": [
      "INFO:tensorflow:Calling model_fn.\n",
      "INFO:tensorflow:Done calling model_fn.\n",
      "INFO:tensorflow:Starting evaluation at 2021-07-19T14:25:00Z\n",
      "INFO:tensorflow:Graph was finalized.\n",
      "INFO:tensorflow:Restoring parameters from /tmp/tmph6cqothj/model.ckpt-1000\n",
      "INFO:tensorflow:Running local_init_op.\n",
      "INFO:tensorflow:Done running local_init_op.\n",
      "INFO:tensorflow:Finished evaluation at 2021-07-19-14:25:00\n",
      "INFO:tensorflow:Saving dict for global step 1000: accuracy = 0.8876, global_step = 1000, loss = 0.39507115\n",
      "INFO:tensorflow:Saving 'checkpoint_path' summary for global step 1000: /tmp/tmph6cqothj/model.ckpt-1000\n"
     ]
    },
    {
     "data": {
      "text/plain": [
       "{'accuracy': 0.8876, 'loss': 0.39507115, 'global_step': 1000}"
      ]
     },
     "execution_count": 20,
     "metadata": {},
     "output_type": "execute_result"
    }
   ],
   "source": [
    "# Evaluate the model:\n",
    "eval_input_fn = tf.estimator.inputs.numpy_input_fn(\n",
    "    x={'images': x_test},\n",
    "    y=y_test,\n",
    "    batch_size=batch_size,\n",
    "    shuffle=False\n",
    ")\n",
    "\n",
    "model.evaluate(eval_input_fn)"
   ]
  }
 ],
 "metadata": {
  "kernelspec": {
   "display_name": "Python 3",
   "language": "python",
   "name": "python3"
  },
  "language_info": {
   "codemirror_mode": {
    "name": "ipython",
    "version": 3
   },
   "file_extension": ".py",
   "mimetype": "text/x-python",
   "name": "python",
   "nbconvert_exporter": "python",
   "pygments_lexer": "ipython3",
   "version": "3.7.10"
  }
 },
 "nbformat": 4,
 "nbformat_minor": 5
}
